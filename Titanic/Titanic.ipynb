{
  "nbformat": 4,
  "nbformat_minor": 0,
  "metadata": {
    "colab": {
      "name": "Titanic II",
      "provenance": [],
      "collapsed_sections": []
    },
    "kernelspec": {
      "name": "python3",
      "display_name": "Python 3"
    },
    "language_info": {
      "name": "python"
    }
  },
  "cells": [
    {
      "cell_type": "markdown",
      "source": [
        "#**Titanic - Machine Learning from Disaster**\n",
        "Use machine learning to create a model that predicts which passengers survived the Titanic shipwreck. \n",
        "  \n",
        "DataGeek42@gmail.com\n",
        "\n",
        "---\n",
        "\n"
      ],
      "metadata": {
        "id": "0I0ael_95iC-"
      }
    },
    {
      "cell_type": "markdown",
      "source": [
        "## DATA CLEANING"
      ],
      "metadata": {
        "id": "C120M5K18XZS"
      }
    },
    {
      "cell_type": "code",
      "source": [
        "# Install the following when first running:\n",
        "!pip install sidetable"
      ],
      "metadata": {
        "colab": {
          "base_uri": "https://localhost:8080/"
        },
        "id": "2iTYAED0uiHe",
        "outputId": "d2886253-1ae7-44a8-f1de-fcad6c3ed2e4"
      },
      "execution_count": null,
      "outputs": [
        {
          "output_type": "stream",
          "name": "stdout",
          "text": [
            "Requirement already satisfied: sidetable in /usr/local/lib/python3.7/dist-packages (0.9.0)\n",
            "Requirement already satisfied: pandas>=1.0 in /usr/local/lib/python3.7/dist-packages (from sidetable) (1.3.5)\n",
            "Requirement already satisfied: python-dateutil>=2.7.3 in /usr/local/lib/python3.7/dist-packages (from pandas>=1.0->sidetable) (2.8.2)\n",
            "Requirement already satisfied: pytz>=2017.3 in /usr/local/lib/python3.7/dist-packages (from pandas>=1.0->sidetable) (2018.9)\n",
            "Requirement already satisfied: numpy>=1.17.3 in /usr/local/lib/python3.7/dist-packages (from pandas>=1.0->sidetable) (1.21.5)\n",
            "Requirement already satisfied: six>=1.5 in /usr/local/lib/python3.7/dist-packages (from python-dateutil>=2.7.3->pandas>=1.0->sidetable) (1.15.0)\n"
          ]
        }
      ]
    },
    {
      "cell_type": "code",
      "source": [
        "# Import libraries\n",
        "from IPython.core.interactiveshell import InteractiveShell\n",
        "InteractiveShell.ast_node_interactivity = \"all\"\n",
        "import pandas as pd\n",
        "import seaborn as sns\n",
        "import numpy as np\n",
        "import sidetable\n",
        "from sklearn import preprocessing\n",
        "import matplotlib.pyplot as plt\n",
        "plt.rc(\"font\", size=14)\n",
        "from sklearn.linear_model import LogisticRegression\n",
        "from sklearn.model_selection import train_test_split\n",
        "sns.set(style=\"white\")\n",
        "sns.set(style=\"whitegrid\", color_codes=True)"
      ],
      "metadata": {
        "id": "EJjeAdXZ8Peo"
      },
      "execution_count": null,
      "outputs": []
    },
    {
      "cell_type": "code",
      "execution_count": null,
      "metadata": {
        "id": "Pgi9x2Cr5czx"
      },
      "outputs": [],
      "source": [
        "# Load data files\n",
        "test = pd.read_csv('test.csv')\n",
        "train = pd.read_csv('train.csv')"
      ]
    },
    {
      "cell_type": "code",
      "source": [
        "train['Cabin'] = train['Cabin'].astype(str)\n",
        "train['Deck'] = train['Cabin'].str.slice(stop=1)\n",
        "test['Cabin'] = test['Cabin'].astype(str)\n",
        "test['Deck'] = test['Cabin'].str.slice(stop=1)\n",
        "train.drop(['Name', 'Ticket'], axis=1, inplace=True)\n",
        "test.drop(['Name', 'Ticket'], axis=1, inplace=True)"
      ],
      "metadata": {
        "id": "PXsvYKV3ByWX"
      },
      "execution_count": null,
      "outputs": []
    },
    {
      "cell_type": "code",
      "source": [
        "all = pd.concat([train, test])\n",
        "all.info()"
      ],
      "metadata": {
        "colab": {
          "base_uri": "https://localhost:8080/"
        },
        "id": "LoxVQcfsPR4r",
        "outputId": "20270a15-f451-4bdd-e0eb-89d8ad230656"
      },
      "execution_count": null,
      "outputs": [
        {
          "output_type": "stream",
          "name": "stdout",
          "text": [
            "<class 'pandas.core.frame.DataFrame'>\n",
            "Int64Index: 1309 entries, 0 to 417\n",
            "Data columns (total 11 columns):\n",
            " #   Column       Non-Null Count  Dtype  \n",
            "---  ------       --------------  -----  \n",
            " 0   PassengerId  1309 non-null   int64  \n",
            " 1   Survived     891 non-null    float64\n",
            " 2   Pclass       1309 non-null   int64  \n",
            " 3   Sex          1309 non-null   object \n",
            " 4   Age          1046 non-null   float64\n",
            " 5   SibSp        1309 non-null   int64  \n",
            " 6   Parch        1309 non-null   int64  \n",
            " 7   Fare         1308 non-null   float64\n",
            " 8   Cabin        1309 non-null   object \n",
            " 9   Embarked     1307 non-null   object \n",
            " 10  Deck         1309 non-null   object \n",
            "dtypes: float64(3), int64(4), object(4)\n",
            "memory usage: 122.7+ KB\n"
          ]
        }
      ]
    },
    {
      "cell_type": "code",
      "source": [
        "dall = all[all['Deck']!='n']\n",
        "dall = dall[dall['Deck']!='T'].sort_values(by='Deck')"
      ],
      "metadata": {
        "id": "YS_I8fknJkEa"
      },
      "execution_count": null,
      "outputs": []
    },
    {
      "cell_type": "markdown",
      "source": [
        "### Visualize Dimensions"
      ],
      "metadata": {
        "id": "TmEIR5JyJ2yp"
      }
    },
    {
      "cell_type": "code",
      "source": [
        "hcol = ['Survived', 'Pclass', 'Sex', 'Age', 'SibSp', 'Parch', 'Fare', 'Embarked']"
      ],
      "metadata": {
        "id": "W8cWT80BAqWa"
      },
      "execution_count": null,
      "outputs": []
    },
    {
      "cell_type": "code",
      "source": [
        "plt.rcParams[\"figure.figsize\"] = (10,8)\n",
        "\n",
        "def draw_histograms(df, variables, n_rows, n_cols):\n",
        "    fig=plt.figure()\n",
        "    for i, var_name in enumerate(variables):\n",
        "        ax=fig.add_subplot(n_rows,n_cols,i+1)\n",
        "        df[var_name].hist(bins=10,ax=ax)\n",
        "        ax.set_title(var_name+\" Distribution\")\n",
        "    fig.tight_layout()  # Improves appearance a bit.\n",
        "    plt.show()\n",
        "\n",
        "draw_histograms(all[hcol], hcol, 4, 4)"
      ],
      "metadata": {
        "colab": {
          "base_uri": "https://localhost:8080/",
          "height": 309
        },
        "id": "sa0mn9zU-bN4",
        "outputId": "6f38041d-1371-4fd2-e1d3-652cd59e5179"
      },
      "execution_count": null,
      "outputs": [
        {
          "output_type": "display_data",
          "data": {
            "text/plain": [
              "<Figure size 720x576 with 8 Axes>"
            ],
            "image/png": "[encoded data removed]"
          },
          "metadata": {}
        }
      ]
    },
    {
      "cell_type": "markdown",
      "source": [
        "**SURVIVED**"
      ],
      "metadata": {
        "id": "0M0z_C-cO08R"
      }
    },
    {
      "cell_type": "code",
      "source": [
        "survived = len(all[all['Survived']==1])\n",
        "notsurvived = len(all[all['Survived']==0])\n",
        "print('\\n Percent Survived: ', round(survived/(survived+notsurvived), 2)*100, '% \\n');\n",
        "\n",
        "sall = all.groupby('Survived').size().to_frame()\n",
        "sall.columns = ['Passengers']\n",
        "\n",
        "sall.plot(kind='bar', stacked=False)\n",
        "plt.title(\"Survivors\")\n",
        "plt.xlabel(\"Survived\")\n",
        "plt.xticks(rotation=0)\n",
        "plt.ylabel(\"Passengers\")\n",
        "plt.show();\n",
        "\n",
        "print(all.stb.freq(['Survived']));"
      ],
      "metadata": {
        "colab": {
          "base_uri": "https://localhost:8080/",
          "height": 622
        },
        "id": "7WtcgASSRKy4",
        "outputId": "c7b070a2-17e4-424c-ffc7-57cd1afedfff"
      },
      "execution_count": null,
      "outputs": [
        {
          "output_type": "stream",
          "name": "stdout",
          "text": [
            "\n",
            " Percent Survived:  38.0 % \n",
            "\n"
          ]
        },
        {
          "output_type": "display_data",
          "data": {
            "text/plain": [
              "<Figure size 720x576 with 1 Axes>"
            ],
            "image/png": "[encoded data removed]"
          },
          "metadata": {}
        },
        {
          "output_type": "stream",
          "name": "stdout",
          "text": [
            "   Survived  count    percent  cumulative_count  cumulative_percent\n",
            "0       0.0    549  61.616162               549           61.616162\n",
            "1       1.0    342  38.383838               891          100.000000\n"
          ]
        }
      ]
    },
    {
      "cell_type": "markdown",
      "source": [
        "**DECK**"
      ],
      "metadata": {
        "id": "TR6BPOTStJT8"
      }
    },
    {
      "cell_type": "markdown",
      "source": [
        "Total  records w/ Deck Documented: 294/1390"
      ],
      "metadata": {
        "id": "1PxpAx5LzTPv"
      }
    },
    {
      "cell_type": "code",
      "source": [
        "dall.info()"
      ],
      "metadata": {
        "colab": {
          "base_uri": "https://localhost:8080/"
        },
        "id": "J2ZiD-ppztMO",
        "outputId": "de7ef492-bf6c-4b76-9606-0ccb690a6670"
      },
      "execution_count": null,
      "outputs": [
        {
          "output_type": "stream",
          "name": "stdout",
          "text": [
            "<class 'pandas.core.frame.DataFrame'>\n",
            "Int64Index: 294 entries, 599 to 251\n",
            "Data columns (total 11 columns):\n",
            " #   Column       Non-Null Count  Dtype  \n",
            "---  ------       --------------  -----  \n",
            " 0   PassengerId  294 non-null    int64  \n",
            " 1   Survived     203 non-null    float64\n",
            " 2   Pclass       294 non-null    int64  \n",
            " 3   Sex          294 non-null    object \n",
            " 4   Age          271 non-null    float64\n",
            " 5   SibSp        294 non-null    int64  \n",
            " 6   Parch        294 non-null    int64  \n",
            " 7   Fare         294 non-null    float64\n",
            " 8   Cabin        294 non-null    object \n",
            " 9   Embarked     292 non-null    object \n",
            " 10  Deck         294 non-null    object \n",
            "dtypes: float64(3), int64(4), object(4)\n",
            "memory usage: 27.6+ KB\n"
          ]
        }
      ]
    },
    {
      "cell_type": "code",
      "source": [
        "plt.rcParams[\"figure.figsize\"] = (6,5)\n",
        "fig=plt.figure()\n",
        "ax=fig.add_subplot(1,1,1)\n",
        "dall['Deck'].hist(bins=7, ax=ax)\n",
        "ax.set_title('Distribution by Deck')\n",
        "plt.show();"
      ],
      "metadata": {
        "colab": {
          "base_uri": "https://localhost:8080/",
          "height": 338
        },
        "id": "nrtky-GUQX8k",
        "outputId": "528a3c22-5c8a-4d83-d4b1-c361bbdb8067"
      },
      "execution_count": null,
      "outputs": [
        {
          "output_type": "display_data",
          "data": {
            "text/plain": [
              "<Figure size 432x360 with 1 Axes>"
            ],
            "image/png": "[encoded data removed]"
          },
          "metadata": {}
        }
      ]
    },
    {
      "cell_type": "code",
      "source": [
        "dalls = dall[['Deck', 'Survived']]\n",
        "dalls = dalls[dalls['Survived']==1]\n",
        "dalls = dalls.groupby(['Deck'])['Survived'].size()\n",
        "dalls = dalls.to_frame()\n",
        "dalls.columns = ['Survived']\n",
        "\n",
        "dalld = dall[['Deck', 'Survived']]\n",
        "dalld = dalld[dalld['Survived']==0]\n",
        "dalld = dalld.groupby(['Deck']).size()\n",
        "dalld = dalld.to_frame()\n",
        "dalld.columns = ['Did Not Survive']\n",
        "\n",
        "da = dalls.merge(dalld, on = ['Deck'], how = 'left', indicator = True)\n",
        "da.drop('_merge', axis=1, inplace=True)\n",
        "\n",
        "print('\\n')\n",
        "print('Total Records w/ Deck Identified :', len(dall), '\\n')\n",
        "\n",
        "da.plot(kind='bar', stacked=True);\n",
        "plt.title(\"Survival by Deck\");\n",
        "plt.xlabel(\"Deck\");\n",
        "plt.xticks(rotation=0);\n",
        "plt.ylabel(\"Passengers\");\n",
        "plt.show();\n",
        "\n",
        "da['% Survived'] = round(da['Survived']/(da['Survived'] + da['Did Not Survive']), 2) * 100\n",
        "da.drop(['Survived', 'Did Not Survive'], axis=1, inplace=True);\n",
        "da.plot(kind='bar', stacked=True);\n",
        "plt.title(\"% Survival by Deck\");\n",
        "plt.xlabel(\"Deck\");\n",
        "plt.xticks(rotation=0);\n",
        "plt.ylabel(\"% Survived\");\n",
        "plt.show();"
      ],
      "metadata": {
        "colab": {
          "base_uri": "https://localhost:8080/",
          "height": 762
        },
        "id": "ifwBC3ZRv55w",
        "outputId": "c5f241a4-5348-48b0-e6a1-e986fa54d0d1"
      },
      "execution_count": null,
      "outputs": [
        {
          "output_type": "stream",
          "name": "stdout",
          "text": [
            "\n",
            "\n",
            "Total Records w/ Deck Identified : 294 \n",
            "\n"
          ]
        },
        {
          "output_type": "display_data",
          "data": {
            "text/plain": [
              "<Figure size 432x360 with 1 Axes>"
            ],
            "image/png": "[encoded data removed]"
          },
          "metadata": {}
        },
        {
          "output_type": "display_data",
          "data": {
            "text/plain": [
              "<Figure size 432x360 with 1 Axes>"
            ],
            "image/png": "[encoded data removed]"
          },
          "metadata": {}
        }
      ]
    },
    {
      "cell_type": "markdown",
      "source": [
        "### Were there relationships between the decks and other variables in the data?"
      ],
      "metadata": {
        "id": "JjxSmsfxTZf4"
      }
    },
    {
      "cell_type": "code",
      "source": [
        "drel = all.drop(['PassengerId', 'Survived', 'Cabin'], axis=1, inplace=False)\n",
        "drel = drel[drel['Deck']!='n']\n",
        "drel = drel[drel['Deck']!='T']\n",
        "drele = drel.groupby(['Deck', 'Embarked']).size().to_frame()\n",
        "drele.columns = ['Passengers']\n",
        "drele.reset_index(inplace=True)\n",
        "pivoted = drele.pivot(index='Deck', columns = 'Embarked')"
      ],
      "metadata": {
        "id": "S0OZUhPyTlR9"
      },
      "execution_count": null,
      "outputs": []
    },
    {
      "cell_type": "code",
      "source": [
        "pivoted.plot(kind='bar', stacked=True)\n",
        "plt.title(\"Place of Embarkment by Deck\");\n",
        "plt.xlabel(\"Deck\");\n",
        "plt.xticks(rotation=0);\n",
        "plt.ylabel(\"Passengers\");\n",
        "plt.show();"
      ],
      "metadata": {
        "colab": {
          "base_uri": "https://localhost:8080/",
          "height": 355
        },
        "id": "ng1YdeEPUfNw",
        "outputId": "0146ec1b-5468-4a9c-fe97-a8ce2e26127d"
      },
      "execution_count": null,
      "outputs": [
        {
          "output_type": "display_data",
          "data": {
            "text/plain": [
              "<Figure size 432x360 with 1 Axes>"
            ],
            "image/png": "[encoded data removed]"
          },
          "metadata": {}
        }
      ]
    },
    {
      "cell_type": "code",
      "source": [
        "drele = drel.groupby(['Deck', 'Sex']).size().to_frame()\n",
        "drele.columns = ['Passengers']\n",
        "drele.reset_index(inplace=True)\n",
        "pivoted = drele.pivot(index='Deck', columns = 'Sex')\n",
        "pivoted.plot(kind='bar', stacked=True)\n",
        "plt.title(\"Sex by Deck\");\n",
        "plt.xlabel(\"Deck\");\n",
        "plt.xticks(rotation=0);\n",
        "plt.ylabel(\"Passengers\");\n",
        "plt.show();"
      ],
      "metadata": {
        "colab": {
          "base_uri": "https://localhost:8080/",
          "height": 355
        },
        "id": "ambgjMjRXjAL",
        "outputId": "08e04fe7-495d-48e1-ddcf-aa7fbe4a3064"
      },
      "execution_count": null,
      "outputs": [
        {
          "output_type": "display_data",
          "data": {
            "text/plain": [
              "<Figure size 432x360 with 1 Axes>"
            ],
            "image/png": "[encoded data removed]"
          },
          "metadata": {}
        }
      ]
    },
    {
      "cell_type": "code",
      "source": [
        "plt.rcParams[\"figure.figsize\"] = (5,5)\n",
        "\n",
        "drele = drel.groupby(['Deck'])['Age'].mean().to_frame()\n",
        "drele.columns = ['Avg Age']\n",
        "drele['Avg Age'] = drele['Avg Age'].astype(float) \n",
        "drele.plot(kind='bar', stacked=True)\n",
        "plt.title(\"Avg Age by Deck\");\n",
        "plt.xlabel(\"Deck\");\n",
        "plt.xticks(rotation=0);\n",
        "plt.ylabel(\"Passengers\");\n",
        "plt.show();\n",
        "\n",
        "\n",
        "drela = drel.drop(['Pclass','Sex', 'SibSp', 'Parch', 'Fare','Embarked'], axis=1, inplace=False)\n",
        "plt.rcParams[\"figure.figsize\"] = (10,8)\n",
        "\n",
        "drela.reset_index(inplace=True)\n",
        "\n",
        "print('\\n')\n",
        "\n",
        "fig, axs = plt.subplots(3, 3, figsize=(15,10))\n",
        "\n",
        "sns.histplot(data=drela[drela['Deck']=='A'], x=\"Age\", kde=True, color=\"skyblue\", ax=axs[0, 0]).set_title('Deck A', fontsize=12, color='#30302f', loc='center')\n",
        "sns.histplot(data=drela[drela['Deck']=='B'], x=\"Age\", kde=True, color=\"olive\", ax=axs[0, 1]).set_title('Deck B', fontsize=12, color='#30302f', loc='center')\n",
        "sns.histplot(data=drela[drela['Deck']=='C'], x=\"Age\", kde=True, color=\"gold\", ax=axs[0, 2]).set_title('Deck C', fontsize=12, color='#30302f', loc='center')\n",
        "sns.histplot(data=drela[drela['Deck']=='D'], x=\"Age\", kde=True, color=\"teal\", ax=axs[1, 0]).set_title('Deck D', fontsize=12, color='#30302f', loc='center')\n",
        "sns.histplot(data=drela[drela['Deck']=='E'], x=\"Age\", kde=True, color=\"pink\", ax=axs[1, 1]).set_title('Deck E', fontsize=12, color='#30302f', loc='center')\n",
        "sns.histplot(data=drela[drela['Deck']=='F'], x=\"Age\", kde=True, color=\"purple\", ax=axs[1, 2]).set_title('Deck F', fontsize=12, color='#30302f', loc='center')\n",
        "sns.histplot(data=drela[drela['Deck']=='G'], x=\"Age\", kde=True, color=\"orange\", ax=axs[2, 0]).set_title('Deck G', fontsize=12, color='#30302f', loc='center')\n",
        "\n",
        "plt.suptitle(\"Age Distribution by Deck\")\n",
        "plt.subplots_adjust(left=0.1,\n",
        "                    bottom=0.1, \n",
        "                    right=0.9, \n",
        "                    top=0.9, \n",
        "                    wspace=0.4, \n",
        "                    hspace=0.4)\n",
        "\n",
        "plt.show();"
      ],
      "metadata": {
        "colab": {
          "base_uri": "https://localhost:8080/",
          "height": 997
        },
        "id": "9dvCpKXgX7-E",
        "outputId": "2aa27e36-27f7-4939-85fe-a9d62bd08af2"
      },
      "execution_count": null,
      "outputs": [
        {
          "output_type": "display_data",
          "data": {
            "text/plain": [
              "<Figure size 360x360 with 1 Axes>"
            ],
            "image/png": "[encoded data removed]"
          },
          "metadata": {}
        },
        {
          "output_type": "stream",
          "name": "stdout",
          "text": [
            "\n",
            "\n"
          ]
        },
        {
          "output_type": "display_data",
          "data": {
            "text/plain": [
              "<Figure size 1080x720 with 9 Axes>"
            ],
            "image/png": "[encoded data removed]"
          },
          "metadata": {}
        }
      ]
    },
    {
      "cell_type": "code",
      "source": [
        "drele = drel.groupby(['Deck'])['SibSp'].mean().to_frame()\n",
        "drele.columns = ['Avg SibSp']\n",
        "drele['Avg SibSp'] = drele['Avg SibSp'].astype(float) \n",
        "drele.plot(kind='bar', stacked=True)\n",
        "plt.title(\"Avg SibSp by Deck\");\n",
        "plt.xlabel(\"Deck\");\n",
        "plt.xticks(rotation=0);\n",
        "plt.ylabel(\"Passengers\");\n",
        "plt.show();"
      ],
      "metadata": {
        "colab": {
          "base_uri": "https://localhost:8080/",
          "height": 518
        },
        "id": "vUSg670AaN0T",
        "outputId": "f9f028cd-b6b0-4c80-b95c-03dec589676b"
      },
      "execution_count": null,
      "outputs": [
        {
          "output_type": "display_data",
          "data": {
            "text/plain": [
              "<Figure size 720x576 with 1 Axes>"
            ],
            "image/png": "[encoded data removed]"
          },
          "metadata": {}
        }
      ]
    },
    {
      "cell_type": "code",
      "source": [
        "drele = drel.groupby(['Deck'])['Parch'].mean().to_frame()\n",
        "drele.columns = ['Avg Parch']\n",
        "drele['Avg Parch'] = drele['Avg Parch'].astype(float) \n",
        "drele.plot(kind='bar', stacked=True)\n",
        "plt.title(\"Avg Parch by Deck\");\n",
        "plt.xlabel(\"Deck\");\n",
        "plt.xticks(rotation=0);\n",
        "plt.ylabel(\"Passengers\");\n",
        "plt.show();"
      ],
      "metadata": {
        "colab": {
          "base_uri": "https://localhost:8080/",
          "height": 518
        },
        "id": "6WA3ohA_a7DM",
        "outputId": "8068e41f-41fe-4aec-e473-8bf721201e93"
      },
      "execution_count": null,
      "outputs": [
        {
          "output_type": "display_data",
          "data": {
            "text/plain": [
              "<Figure size 720x576 with 1 Axes>"
            ],
            "image/png": "[encoded data removed]"
          },
          "metadata": {}
        }
      ]
    },
    {
      "cell_type": "markdown",
      "source": [
        "###FINDINGS:\n",
        "* Decks B, D & E had the largest percentage of survivers compared to the total number of passengers on the deck.\n",
        "* Deck G was comprised of entirely female passengers\n",
        "* The average age of passengers on decks F & G was significantly lower than the other decks.\n",
        "* Passengers on decks C & G had the highest average number of siblings & spouses aboard, while deck A had the lowest average.\n",
        "* Passengers on deck G had the highest average number of parents/children aboard the titanic whereas deck A had the lowest, followed by deck D. This makes sense as the average ages on decks A & D were highest.\n",
        "\n",
        "---\n",
        "#### Age Distribution by Deck\n",
        "* Deck A - mostly older passengers\n",
        "* Deck B - A few more passengers aged 0-40 than other groups\n",
        "* Deck C - mostly 20-30 with some from all age ranges but fewer of the youngest and oldest than any other age range on the deck\n",
        "* Deck D - No young children, mostly evenly distributed age groups from almost 20 through 60+\n",
        "* Deck E - similar distribution to deck C\n",
        "* Deck F - more children & mid-20s passengers than any other age group\n",
        "* Deck G - comprised of young girls and mid-20s women with parents or children and at least 1 sibling aboard\n",
        "\n",
        "\n",
        "**NOTE: Only 294 of the 1309 records (22.46%) had Deck information.**\n",
        "\n",
        "\n"
      ],
      "metadata": {
        "id": "Cy-WbgxqZYYb"
      }
    },
    {
      "cell_type": "markdown",
      "source": [
        "### **TICKET CLASS**"
      ],
      "metadata": {
        "id": "Fc1dUTcuTixP"
      }
    },
    {
      "cell_type": "code",
      "source": [
        "class1 = len(all[all['Pclass']==1])\n",
        "class2 = len(all[all['Pclass']==2])\n",
        "class3 = len(all[all['Pclass']==3])\n",
        "classAll = class1 + class2 + class3\n",
        "print('\\n')\n",
        "print('Total Records w/ Ticket Class Identified: ', classAll, '\\n')\n",
        "print('1st Class: ', round(class1/classAll, 2)*100, '%')\n",
        "print('2nd Class: ', round(class2/classAll, 2)*100, '%')\n",
        "print('3rd Class: ', round(class3/classAll, 2)*100, '% \\n');\n",
        "\n",
        "pall=all\n",
        "\n",
        "sns.barplot(\n",
        "    x=\"Pclass\", \n",
        "    y=\"Pclass\", \n",
        "    data=pall, \n",
        "    estimator=len, \n",
        "    ci=None, \n",
        "    ).set(title='Passengers by Class');\n",
        "plt.show();\n",
        "\n",
        "all.stb.freq(['Pclass']).sort_values(by='Pclass');\n",
        "\n",
        "sall = pall[pall['Survived']==1]\n",
        "\n",
        "sns.barplot(\n",
        "    x=\"Pclass\", \n",
        "    y=\"Survived\", \n",
        "    data=sall, \n",
        "    estimator=len, \n",
        "    ci=None, \n",
        "    ).set(title='Survivors by Class');\n",
        "plt.show();\n",
        "\n",
        "all.stb.freq(['Pclass', 'Survived']).sort_values(by=['Survived', 'Pclass'])"
      ],
      "metadata": {
        "colab": {
          "base_uri": "https://localhost:8080/",
          "height": 1000
        },
        "id": "L7Oa9-1mTyL_",
        "outputId": "8df1c2de-d9f4-41de-c0e8-7b36b2b3fc34"
      },
      "execution_count": null,
      "outputs": [
        {
          "output_type": "stream",
          "name": "stdout",
          "text": [
            "\n",
            "\n",
            "Total Records w/ Ticket Class Identified:  1309 \n",
            "\n",
            "1st Class:  25.0 %\n",
            "2nd Class:  21.0 %\n",
            "3rd Class:  54.0 % \n",
            "\n"
          ]
        },
        {
          "output_type": "execute_result",
          "data": {
            "text/plain": [
              "[Text(0.5, 1.0, 'Passengers by Class')]"
            ]
          },
          "metadata": {},
          "execution_count": 19
        },
        {
          "output_type": "display_data",
          "data": {
            "text/plain": [
              "<Figure size 720x576 with 1 Axes>"
            ],
            "image/png": "[encoded data removed]"
          },
          "metadata": {}
        },
        {
          "output_type": "execute_result",
          "data": {
            "text/plain": [
              "   Pclass  count    percent  cumulative_count  cumulative_percent\n",
              "1       1    323  24.675325              1032           78.838808\n",
              "2       2    277  21.161192              1309          100.000000\n",
              "0       3    709  54.163484               709           54.163484"
            ],
            "text/html": [
              "\n",
              "  <div id=\"df-62045931-57cc-4b01-bc97-7dea38e81ed6\">\n",
              "    <div class=\"colab-df-container\">\n",
              "      <div>\n",
              "<style scoped>\n",
              "    .dataframe tbody tr th:only-of-type {\n",
              "        vertical-align: middle;\n",
              "    }\n",
              "\n",
              "    .dataframe tbody tr th {\n",
              "        vertical-align: top;\n",
              "    }\n",
              "\n",
              "    .dataframe thead th {\n",
              "        text-align: right;\n",
              "    }\n",
              "</style>\n",
              "<table border=\"1\" class=\"dataframe\">\n",
              "  <thead>\n",
              "    <tr style=\"text-align: right;\">\n",
              "      <th></th>\n",
              "      <th>Pclass</th>\n",
              "      <th>count</th>\n",
              "      <th>percent</th>\n",
              "      <th>cumulative_count</th>\n",
              "      <th>cumulative_percent</th>\n",
              "    </tr>\n",
              "  </thead>\n",
              "  <tbody>\n",
              "    <tr>\n",
              "      <th>1</th>\n",
              "      <td>1</td>\n",
              "      <td>323</td>\n",
              "      <td>24.675325</td>\n",
              "      <td>1032</td>\n",
              "      <td>78.838808</td>\n",
              "    </tr>\n",
              "    <tr>\n",
              "      <th>2</th>\n",
              "      <td>2</td>\n",
              "      <td>277</td>\n",
              "      <td>21.161192</td>\n",
              "      <td>1309</td>\n",
              "      <td>100.000000</td>\n",
              "    </tr>\n",
              "    <tr>\n",
              "      <th>0</th>\n",
              "      <td>3</td>\n",
              "      <td>709</td>\n",
              "      <td>54.163484</td>\n",
              "      <td>709</td>\n",
              "      <td>54.163484</td>\n",
              "    </tr>\n",
              "  </tbody>\n",
              "</table>\n",
              "</div>\n",
              "      <button class=\"colab-df-convert\" onclick=\"convertToInteractive('df-62045931-57cc-4b01-bc97-7dea38e81ed6')\"\n",
              "              title=\"Convert this dataframe to an interactive table.\"\n",
              "              style=\"display:none;\">\n",
              "        \n",
              "  <svg xmlns=\"http://www.w3.org/2000/svg\" height=\"24px\"viewBox=\"0 0 24 24\"\n",
              "       width=\"24px\">\n",
              "    <path d=\"M0 0h24v24H0V0z\" fill=\"none\"/>\n",
              "    <path d=\"M18.56 5.44l.94 2.06.94-2.06 2.06-.94-2.06-.94-.94-2.06-.94 2.06-2.06.94zm-11 1L8.5 8.5l.94-2.06 2.06-.94-2.06-.94L8.5 2.5l-.94 2.06-2.06.94zm10 10l.94 2.06.94-2.06 2.06-.94-2.06-.94-.94-2.06-.94 2.06-2.06.94z\"/><path d=\"M17.41 7.96l-1.37-1.37c-.4-.4-.92-.59-1.43-.59-.52 0-1.04.2-1.43.59L10.3 9.45l-7.72 7.72c-.78.78-.78 2.05 0 2.83L4 21.41c.39.39.9.59 1.41.59.51 0 1.02-.2 1.41-.59l7.78-7.78 2.81-2.81c.8-.78.8-2.07 0-2.86zM5.41 20L4 18.59l7.72-7.72 1.47 1.35L5.41 20z\"/>\n",
              "  </svg>\n",
              "      </button>\n",
              "      \n",
              "  <style>\n",
              "    .colab-df-container {\n",
              "      display:flex;\n",
              "      flex-wrap:wrap;\n",
              "      gap: 12px;\n",
              "    }\n",
              "\n",
              "    .colab-df-convert {\n",
              "      background-color: #E8F0FE;\n",
              "      border: none;\n",
              "      border-radius: 50%;\n",
              "      cursor: pointer;\n",
              "      display: none;\n",
              "      fill: #1967D2;\n",
              "      height: 32px;\n",
              "      padding: 0 0 0 0;\n",
              "      width: 32px;\n",
              "    }\n",
              "\n",
              "    .colab-df-convert:hover {\n",
              "      background-color: #E2EBFA;\n",
              "      box-shadow: 0px 1px 2px rgba(60, 64, 67, 0.3), 0px 1px 3px 1px rgba(60, 64, 67, 0.15);\n",
              "      fill: #174EA6;\n",
              "    }\n",
              "\n",
              "    [theme=dark] .colab-df-convert {\n",
              "      background-color: #3B4455;\n",
              "      fill: #D2E3FC;\n",
              "    }\n",
              "\n",
              "    [theme=dark] .colab-df-convert:hover {\n",
              "      background-color: #434B5C;\n",
              "      box-shadow: 0px 1px 3px 1px rgba(0, 0, 0, 0.15);\n",
              "      filter: drop-shadow(0px 1px 2px rgba(0, 0, 0, 0.3));\n",
              "      fill: #FFFFFF;\n",
              "    }\n",
              "  </style>\n",
              "\n",
              "      <script>\n",
              "        const buttonEl =\n",
              "          document.querySelector('#df-62045931-57cc-4b01-bc97-7dea38e81ed6 button.colab-df-convert');\n",
              "        buttonEl.style.display =\n",
              "          google.colab.kernel.accessAllowed ? 'block' : 'none';\n",
              "\n",
              "        async function convertToInteractive(key) {\n",
              "          const element = document.querySelector('#df-62045931-57cc-4b01-bc97-7dea38e81ed6');\n",
              "          const dataTable =\n",
              "            await google.colab.kernel.invokeFunction('convertToInteractive',\n",
              "                                                     [key], {});\n",
              "          if (!dataTable) return;\n",
              "\n",
              "          const docLinkHtml = 'Like what you see? Visit the ' +\n",
              "            '<a target=\"_blank\" href=https://colab.research.google.com/notebooks/data_table.ipynb>data table notebook</a>'\n",
              "            + ' to learn more about interactive tables.';\n",
              "          element.innerHTML = '';\n",
              "          dataTable['output_type'] = 'display_data';\n",
              "          await google.colab.output.renderOutput(dataTable, element);\n",
              "          const docLink = document.createElement('div');\n",
              "          docLink.innerHTML = docLinkHtml;\n",
              "          element.appendChild(docLink);\n",
              "        }\n",
              "      </script>\n",
              "    </div>\n",
              "  </div>\n",
              "  "
            ]
          },
          "metadata": {},
          "execution_count": 19
        },
        {
          "output_type": "execute_result",
          "data": {
            "text/plain": [
              "[Text(0.5, 1.0, 'Survivors by Class')]"
            ]
          },
          "metadata": {},
          "execution_count": 19
        },
        {
          "output_type": "display_data",
          "data": {
            "text/plain": [
              "<Figure size 720x576 with 1 Axes>"
            ],
            "image/png": "[encoded data removed]"
          },
          "metadata": {}
        },
        {
          "output_type": "execute_result",
          "data": {
            "text/plain": [
              "   Pclass  Survived  count    percent  cumulative_count  cumulative_percent\n",
              "5       1       0.0     80   8.978676               891          100.000000\n",
              "3       2       0.0     97  10.886644               724           81.257015\n",
              "0       3       0.0    372  41.750842               372           41.750842\n",
              "1       1       1.0    136  15.263749               508           57.014590\n",
              "4       2       1.0     87   9.764310               811           91.021324\n",
              "2       3       1.0    119  13.355780               627           70.370370"
            ],
            "text/html": [
              "\n",
              "  <div id=\"df-eaf97465-55f7-4a6d-9976-1b64a7077a75\">\n",
              "    <div class=\"colab-df-container\">\n",
              "      <div>\n",
              "<style scoped>\n",
              "    .dataframe tbody tr th:only-of-type {\n",
              "        vertical-align: middle;\n",
              "    }\n",
              "\n",
              "    .dataframe tbody tr th {\n",
              "        vertical-align: top;\n",
              "    }\n",
              "\n",
              "    .dataframe thead th {\n",
              "        text-align: right;\n",
              "    }\n",
              "</style>\n",
              "<table border=\"1\" class=\"dataframe\">\n",
              "  <thead>\n",
              "    <tr style=\"text-align: right;\">\n",
              "      <th></th>\n",
              "      <th>Pclass</th>\n",
              "      <th>Survived</th>\n",
              "      <th>count</th>\n",
              "      <th>percent</th>\n",
              "      <th>cumulative_count</th>\n",
              "      <th>cumulative_percent</th>\n",
              "    </tr>\n",
              "  </thead>\n",
              "  <tbody>\n",
              "    <tr>\n",
              "      <th>5</th>\n",
              "      <td>1</td>\n",
              "      <td>0.0</td>\n",
              "      <td>80</td>\n",
              "      <td>8.978676</td>\n",
              "      <td>891</td>\n",
              "      <td>100.000000</td>\n",
              "    </tr>\n",
              "    <tr>\n",
              "      <th>3</th>\n",
              "      <td>2</td>\n",
              "      <td>0.0</td>\n",
              "      <td>97</td>\n",
              "      <td>10.886644</td>\n",
              "      <td>724</td>\n",
              "      <td>81.257015</td>\n",
              "    </tr>\n",
              "    <tr>\n",
              "      <th>0</th>\n",
              "      <td>3</td>\n",
              "      <td>0.0</td>\n",
              "      <td>372</td>\n",
              "      <td>41.750842</td>\n",
              "      <td>372</td>\n",
              "      <td>41.750842</td>\n",
              "    </tr>\n",
              "    <tr>\n",
              "      <th>1</th>\n",
              "      <td>1</td>\n",
              "      <td>1.0</td>\n",
              "      <td>136</td>\n",
              "      <td>15.263749</td>\n",
              "      <td>508</td>\n",
              "      <td>57.014590</td>\n",
              "    </tr>\n",
              "    <tr>\n",
              "      <th>4</th>\n",
              "      <td>2</td>\n",
              "      <td>1.0</td>\n",
              "      <td>87</td>\n",
              "      <td>9.764310</td>\n",
              "      <td>811</td>\n",
              "      <td>91.021324</td>\n",
              "    </tr>\n",
              "    <tr>\n",
              "      <th>2</th>\n",
              "      <td>3</td>\n",
              "      <td>1.0</td>\n",
              "      <td>119</td>\n",
              "      <td>13.355780</td>\n",
              "      <td>627</td>\n",
              "      <td>70.370370</td>\n",
              "    </tr>\n",
              "  </tbody>\n",
              "</table>\n",
              "</div>\n",
              "      <button class=\"colab-df-convert\" onclick=\"convertToInteractive('df-eaf97465-55f7-4a6d-9976-1b64a7077a75')\"\n",
              "              title=\"Convert this dataframe to an interactive table.\"\n",
              "              style=\"display:none;\">\n",
              "        \n",
              "  <svg xmlns=\"http://www.w3.org/2000/svg\" height=\"24px\"viewBox=\"0 0 24 24\"\n",
              "       width=\"24px\">\n",
              "    <path d=\"M0 0h24v24H0V0z\" fill=\"none\"/>\n",
              "    <path d=\"M18.56 5.44l.94 2.06.94-2.06 2.06-.94-2.06-.94-.94-2.06-.94 2.06-2.06.94zm-11 1L8.5 8.5l.94-2.06 2.06-.94-2.06-.94L8.5 2.5l-.94 2.06-2.06.94zm10 10l.94 2.06.94-2.06 2.06-.94-2.06-.94-.94-2.06-.94 2.06-2.06.94z\"/><path d=\"M17.41 7.96l-1.37-1.37c-.4-.4-.92-.59-1.43-.59-.52 0-1.04.2-1.43.59L10.3 9.45l-7.72 7.72c-.78.78-.78 2.05 0 2.83L4 21.41c.39.39.9.59 1.41.59.51 0 1.02-.2 1.41-.59l7.78-7.78 2.81-2.81c.8-.78.8-2.07 0-2.86zM5.41 20L4 18.59l7.72-7.72 1.47 1.35L5.41 20z\"/>\n",
              "  </svg>\n",
              "      </button>\n",
              "      \n",
              "  <style>\n",
              "    .colab-df-container {\n",
              "      display:flex;\n",
              "      flex-wrap:wrap;\n",
              "      gap: 12px;\n",
              "    }\n",
              "\n",
              "    .colab-df-convert {\n",
              "      background-color: #E8F0FE;\n",
              "      border: none;\n",
              "      border-radius: 50%;\n",
              "      cursor: pointer;\n",
              "      display: none;\n",
              "      fill: #1967D2;\n",
              "      height: 32px;\n",
              "      padding: 0 0 0 0;\n",
              "      width: 32px;\n",
              "    }\n",
              "\n",
              "    .colab-df-convert:hover {\n",
              "      background-color: #E2EBFA;\n",
              "      box-shadow: 0px 1px 2px rgba(60, 64, 67, 0.3), 0px 1px 3px 1px rgba(60, 64, 67, 0.15);\n",
              "      fill: #174EA6;\n",
              "    }\n",
              "\n",
              "    [theme=dark] .colab-df-convert {\n",
              "      background-color: #3B4455;\n",
              "      fill: #D2E3FC;\n",
              "    }\n",
              "\n",
              "    [theme=dark] .colab-df-convert:hover {\n",
              "      background-color: #434B5C;\n",
              "      box-shadow: 0px 1px 3px 1px rgba(0, 0, 0, 0.15);\n",
              "      filter: drop-shadow(0px 1px 2px rgba(0, 0, 0, 0.3));\n",
              "      fill: #FFFFFF;\n",
              "    }\n",
              "  </style>\n",
              "\n",
              "      <script>\n",
              "        const buttonEl =\n",
              "          document.querySelector('#df-eaf97465-55f7-4a6d-9976-1b64a7077a75 button.colab-df-convert');\n",
              "        buttonEl.style.display =\n",
              "          google.colab.kernel.accessAllowed ? 'block' : 'none';\n",
              "\n",
              "        async function convertToInteractive(key) {\n",
              "          const element = document.querySelector('#df-eaf97465-55f7-4a6d-9976-1b64a7077a75');\n",
              "          const dataTable =\n",
              "            await google.colab.kernel.invokeFunction('convertToInteractive',\n",
              "                                                     [key], {});\n",
              "          if (!dataTable) return;\n",
              "\n",
              "          const docLinkHtml = 'Like what you see? Visit the ' +\n",
              "            '<a target=\"_blank\" href=https://colab.research.google.com/notebooks/data_table.ipynb>data table notebook</a>'\n",
              "            + ' to learn more about interactive tables.';\n",
              "          element.innerHTML = '';\n",
              "          dataTable['output_type'] = 'display_data';\n",
              "          await google.colab.output.renderOutput(dataTable, element);\n",
              "          const docLink = document.createElement('div');\n",
              "          docLink.innerHTML = docLinkHtml;\n",
              "          element.appendChild(docLink);\n",
              "        }\n",
              "      </script>\n",
              "    </div>\n",
              "  </div>\n",
              "  "
            ]
          },
          "metadata": {},
          "execution_count": 19
        }
      ]
    },
    {
      "cell_type": "markdown",
      "source": [
        "### FINDINGS:  \n",
        "All records had passenger class details\n",
        "* **3rd class passengers were the largest group at 54%**\n",
        "* Largest group of survivors was 1st class at 40% of total survivors \n",
        "* 25% of survivors were 2nd class\n",
        "* 35% of survivors were 3rd class\n",
        "* **Of all 1st Class Passengers, 63% survived**\n",
        "* Of all 2nd Class Passengers, 47% survived\n",
        "* **Of all 3rd Class Passengers, only 24% survived**\n",
        "\n"
      ],
      "metadata": {
        "id": "gzggnczWwhE3"
      }
    },
    {
      "cell_type": "markdown",
      "source": [
        "### **GENDER**"
      ],
      "metadata": {
        "id": "oL25N8eloGau"
      }
    },
    {
      "cell_type": "code",
      "source": [
        "g = pd.DataFrame({'Sex':['Female', 'Male'],\n",
        "     'Survived':[385, 109],\n",
        "     'Did Not Survive':[81, 734]})\n",
        "\n",
        "g.set_index('Sex', inplace=True)\n",
        "\n",
        "males = len(all[all['Sex']=='male'])\n",
        "females = len(all[all['Sex']=='female'])\n",
        "gendersAll = males + females\n",
        "\n",
        "print('\\n')\n",
        "print('Total Records w/ Gender Identified: ', gendersAll, '\\n')\n",
        "print('Total Males: ', round(males/gendersAll, 2)*100, '%')\n",
        "print('Total Females: ', round(females/gendersAll, 2)*100, '%')\n",
        "print('\\n')\n",
        "sns.barplot(\n",
        "    x=\"Sex\", \n",
        "    y=\"Survived\", \n",
        "    data=all.sort_values(by='Sex'), \n",
        "    estimator=sum, \n",
        "    ci=None, \n",
        "    color='#69b3a2'\n",
        "    ).set(title='Survival by Gender');\n",
        "\n",
        "g.plot(kind='bar', stacked=True);\n",
        "plt.title(\"Survival by Gender\");\n",
        "plt.xlabel(\"Gender\");\n",
        "plt.xticks(rotation=0);\n",
        "plt.ylabel(\"Survivors\");\n",
        "plt.show();\n",
        "\n",
        "\n",
        "all.stb.freq(['Sex', 'Survived']).sort_values(by=['Survived', 'Sex'])"
      ],
      "metadata": {
        "colab": {
          "base_uri": "https://localhost:8080/",
          "height": 1000
        },
        "id": "0tH6DJuNo2gR",
        "outputId": "55556611-6cf8-4c91-9035-6e674876a1ee"
      },
      "execution_count": null,
      "outputs": [
        {
          "output_type": "stream",
          "name": "stdout",
          "text": [
            "\n",
            "\n",
            "Total Records w/ Gender Identified:  1309 \n",
            "\n",
            "Total Males:  64.0 %\n",
            "Total Females:  36.0 %\n",
            "\n",
            "\n"
          ]
        },
        {
          "output_type": "execute_result",
          "data": {
            "text/plain": [
              "[Text(0.5, 1.0, 'Survival by Gender')]"
            ]
          },
          "metadata": {},
          "execution_count": 20
        },
        {
          "output_type": "execute_result",
          "data": {
            "text/plain": [
              "<matplotlib.axes._subplots.AxesSubplot at 0x7fe644b35510>"
            ]
          },
          "metadata": {},
          "execution_count": 20
        },
        {
          "output_type": "execute_result",
          "data": {
            "text/plain": [
              "Text(0.5, 1.0, 'Survival by Gender')"
            ]
          },
          "metadata": {},
          "execution_count": 20
        },
        {
          "output_type": "execute_result",
          "data": {
            "text/plain": [
              "Text(0.5, 0, 'Gender')"
            ]
          },
          "metadata": {},
          "execution_count": 20
        },
        {
          "output_type": "execute_result",
          "data": {
            "text/plain": [
              "(array([0, 1]), <a list of 2 Text major ticklabel objects>)"
            ]
          },
          "metadata": {},
          "execution_count": 20
        },
        {
          "output_type": "execute_result",
          "data": {
            "text/plain": [
              "Text(0, 0.5, 'Survivors')"
            ]
          },
          "metadata": {},
          "execution_count": 20
        },
        {
          "output_type": "display_data",
          "data": {
            "text/plain": [
              "<Figure size 720x576 with 1 Axes>"
            ],
            "image/png": "[encoded data removed]"
          },
          "metadata": {}
        },
        {
          "output_type": "display_data",
          "data": {
            "text/plain": [
              "<Figure size 720x576 with 1 Axes>"
            ],
            "image/png": "[encoded data removed]"
          },
          "metadata": {}
        },
        {
          "output_type": "execute_result",
          "data": {
            "text/plain": [
              "      Sex  Survived  count    percent  cumulative_count  cumulative_percent\n",
              "3  female       0.0     81   9.090909               891          100.000000\n",
              "0    male       0.0    468  52.525253               468           52.525253\n",
              "1  female       1.0    233  26.150393               701           78.675645\n",
              "2    male       1.0    109  12.233446               810           90.909091"
            ],
            "text/html": [
              "\n",
              "  <div id=\"df-a19a8dd8-fe0e-483a-b75a-6985c89d04a7\">\n",
              "    <div class=\"colab-df-container\">\n",
              "      <div>\n",
              "<style scoped>\n",
              "    .dataframe tbody tr th:only-of-type {\n",
              "        vertical-align: middle;\n",
              "    }\n",
              "\n",
              "    .dataframe tbody tr th {\n",
              "        vertical-align: top;\n",
              "    }\n",
              "\n",
              "    .dataframe thead th {\n",
              "        text-align: right;\n",
              "    }\n",
              "</style>\n",
              "<table border=\"1\" class=\"dataframe\">\n",
              "  <thead>\n",
              "    <tr style=\"text-align: right;\">\n",
              "      <th></th>\n",
              "      <th>Sex</th>\n",
              "      <th>Survived</th>\n",
              "      <th>count</th>\n",
              "      <th>percent</th>\n",
              "      <th>cumulative_count</th>\n",
              "      <th>cumulative_percent</th>\n",
              "    </tr>\n",
              "  </thead>\n",
              "  <tbody>\n",
              "    <tr>\n",
              "      <th>3</th>\n",
              "      <td>female</td>\n",
              "      <td>0.0</td>\n",
              "      <td>81</td>\n",
              "      <td>9.090909</td>\n",
              "      <td>891</td>\n",
              "      <td>100.000000</td>\n",
              "    </tr>\n",
              "    <tr>\n",
              "      <th>0</th>\n",
              "      <td>male</td>\n",
              "      <td>0.0</td>\n",
              "      <td>468</td>\n",
              "      <td>52.525253</td>\n",
              "      <td>468</td>\n",
              "      <td>52.525253</td>\n",
              "    </tr>\n",
              "    <tr>\n",
              "      <th>1</th>\n",
              "      <td>female</td>\n",
              "      <td>1.0</td>\n",
              "      <td>233</td>\n",
              "      <td>26.150393</td>\n",
              "      <td>701</td>\n",
              "      <td>78.675645</td>\n",
              "    </tr>\n",
              "    <tr>\n",
              "      <th>2</th>\n",
              "      <td>male</td>\n",
              "      <td>1.0</td>\n",
              "      <td>109</td>\n",
              "      <td>12.233446</td>\n",
              "      <td>810</td>\n",
              "      <td>90.909091</td>\n",
              "    </tr>\n",
              "  </tbody>\n",
              "</table>\n",
              "</div>\n",
              "      <button class=\"colab-df-convert\" onclick=\"convertToInteractive('df-a19a8dd8-fe0e-483a-b75a-6985c89d04a7')\"\n",
              "              title=\"Convert this dataframe to an interactive table.\"\n",
              "              style=\"display:none;\">\n",
              "        \n",
              "  <svg xmlns=\"http://www.w3.org/2000/svg\" height=\"24px\"viewBox=\"0 0 24 24\"\n",
              "       width=\"24px\">\n",
              "    <path d=\"M0 0h24v24H0V0z\" fill=\"none\"/>\n",
              "    <path d=\"M18.56 5.44l.94 2.06.94-2.06 2.06-.94-2.06-.94-.94-2.06-.94 2.06-2.06.94zm-11 1L8.5 8.5l.94-2.06 2.06-.94-2.06-.94L8.5 2.5l-.94 2.06-2.06.94zm10 10l.94 2.06.94-2.06 2.06-.94-2.06-.94-.94-2.06-.94 2.06-2.06.94z\"/><path d=\"M17.41 7.96l-1.37-1.37c-.4-.4-.92-.59-1.43-.59-.52 0-1.04.2-1.43.59L10.3 9.45l-7.72 7.72c-.78.78-.78 2.05 0 2.83L4 21.41c.39.39.9.59 1.41.59.51 0 1.02-.2 1.41-.59l7.78-7.78 2.81-2.81c.8-.78.8-2.07 0-2.86zM5.41 20L4 18.59l7.72-7.72 1.47 1.35L5.41 20z\"/>\n",
              "  </svg>\n",
              "      </button>\n",
              "      \n",
              "  <style>\n",
              "    .colab-df-container {\n",
              "      display:flex;\n",
              "      flex-wrap:wrap;\n",
              "      gap: 12px;\n",
              "    }\n",
              "\n",
              "    .colab-df-convert {\n",
              "      background-color: #E8F0FE;\n",
              "      border: none;\n",
              "      border-radius: 50%;\n",
              "      cursor: pointer;\n",
              "      display: none;\n",
              "      fill: #1967D2;\n",
              "      height: 32px;\n",
              "      padding: 0 0 0 0;\n",
              "      width: 32px;\n",
              "    }\n",
              "\n",
              "    .colab-df-convert:hover {\n",
              "      background-color: #E2EBFA;\n",
              "      box-shadow: 0px 1px 2px rgba(60, 64, 67, 0.3), 0px 1px 3px 1px rgba(60, 64, 67, 0.15);\n",
              "      fill: #174EA6;\n",
              "    }\n",
              "\n",
              "    [theme=dark] .colab-df-convert {\n",
              "      background-color: #3B4455;\n",
              "      fill: #D2E3FC;\n",
              "    }\n",
              "\n",
              "    [theme=dark] .colab-df-convert:hover {\n",
              "      background-color: #434B5C;\n",
              "      box-shadow: 0px 1px 3px 1px rgba(0, 0, 0, 0.15);\n",
              "      filter: drop-shadow(0px 1px 2px rgba(0, 0, 0, 0.3));\n",
              "      fill: #FFFFFF;\n",
              "    }\n",
              "  </style>\n",
              "\n",
              "      <script>\n",
              "        const buttonEl =\n",
              "          document.querySelector('#df-a19a8dd8-fe0e-483a-b75a-6985c89d04a7 button.colab-df-convert');\n",
              "        buttonEl.style.display =\n",
              "          google.colab.kernel.accessAllowed ? 'block' : 'none';\n",
              "\n",
              "        async function convertToInteractive(key) {\n",
              "          const element = document.querySelector('#df-a19a8dd8-fe0e-483a-b75a-6985c89d04a7');\n",
              "          const dataTable =\n",
              "            await google.colab.kernel.invokeFunction('convertToInteractive',\n",
              "                                                     [key], {});\n",
              "          if (!dataTable) return;\n",
              "\n",
              "          const docLinkHtml = 'Like what you see? Visit the ' +\n",
              "            '<a target=\"_blank\" href=https://colab.research.google.com/notebooks/data_table.ipynb>data table notebook</a>'\n",
              "            + ' to learn more about interactive tables.';\n",
              "          element.innerHTML = '';\n",
              "          dataTable['output_type'] = 'display_data';\n",
              "          await google.colab.output.renderOutput(dataTable, element);\n",
              "          const docLink = document.createElement('div');\n",
              "          docLink.innerHTML = docLinkHtml;\n",
              "          element.appendChild(docLink);\n",
              "        }\n",
              "      </script>\n",
              "    </div>\n",
              "  </div>\n",
              "  "
            ]
          },
          "metadata": {},
          "execution_count": 20
        }
      ]
    },
    {
      "cell_type": "markdown",
      "source": [
        "### **FINDINGS:**\n",
        "All records included gender details\n",
        "* 36% of passengers were female and 64% were male\n",
        "* 74% of women survived whereas only 19% of males survived  \n"
      ],
      "metadata": {
        "id": "ZbdNuT6k8_Di"
      }
    },
    {
      "cell_type": "code",
      "source": [
        "train.isna().sum()\n",
        "test.isna().sum()"
      ],
      "metadata": {
        "colab": {
          "base_uri": "https://localhost:8080/"
        },
        "id": "AzGxd9cjRwlY",
        "outputId": "8ced2451-cdd1-47ca-9acd-fdeb640fadd3"
      },
      "execution_count": null,
      "outputs": [
        {
          "output_type": "execute_result",
          "data": {
            "text/plain": [
              "PassengerId      0\n",
              "Survived         0\n",
              "Pclass           0\n",
              "Sex              0\n",
              "Age            177\n",
              "SibSp            0\n",
              "Parch            0\n",
              "Fare             0\n",
              "Cabin            0\n",
              "Embarked         2\n",
              "Deck             0\n",
              "dtype: int64"
            ]
          },
          "metadata": {},
          "execution_count": 21
        },
        {
          "output_type": "execute_result",
          "data": {
            "text/plain": [
              "PassengerId     0\n",
              "Pclass          0\n",
              "Sex             0\n",
              "Age            86\n",
              "SibSp           0\n",
              "Parch           0\n",
              "Fare            1\n",
              "Cabin           0\n",
              "Embarked        0\n",
              "Deck            0\n",
              "dtype: int64"
            ]
          },
          "metadata": {},
          "execution_count": 21
        }
      ]
    },
    {
      "cell_type": "markdown",
      "source": [
        "### **FARE**"
      ],
      "metadata": {
        "id": "_mcJJ0FX-hXe"
      }
    },
    {
      "cell_type": "code",
      "source": [
        "all.loc[all['Fare'].between(0, 40, inclusive='both'), 'Fare Range'] = '(1) 0-40'\n",
        "all.loc[all['Fare'].between(41, 80, inclusive='both'), 'Fare Range'] = '(2) 41-80'\n",
        "all.loc[all['Fare'].between(81, 120, inclusive='both'), 'Fare Range'] = '(3) 81-120'\n",
        "all.loc[all['Fare'].between(121, 160, inclusive='both'), 'Fare Range'] = '(4) 121-160'\n",
        "all.loc[all['Fare'].between(161, 200, inclusive='both'), 'Fare Range'] = '(5) 161-200'\n",
        "all.loc[all['Fare'].between(201, 240, inclusive='both'), 'Fare Range'] = '(6) 201-240'\n",
        "all.loc[all['Fare'].between(241, 280, inclusive='both'), 'Fare Range'] = '(7) 241-280'\n",
        "\n",
        "w = all.groupby('Fare Range')['Survived'].sum()\n",
        "print('\\n')\n",
        "x = all[all['Survived']==0].groupby('Fare Range').size()\n",
        "\n",
        "fr = pd.concat([w, x], axis=1)\n",
        "fr = fr.fillna(0)\n",
        "fr.columns = ['Survived', 'Did Not Survive']\n",
        "fr.sort_values(by='Fare Range')\n",
        "\n",
        "fr.plot(kind='bar', stacked=True);\n",
        "plt.title(\"Survival by Fare Range\");\n",
        "plt.xlabel(\"Fare Range\");\n",
        "plt.xticks(rotation=0);\n",
        "plt.ylabel(\"Passengers\");\n",
        "plt.show();\n",
        "\n",
        "fr['% Survived'] = fr['Survived'] / (fr['Survived'] + fr['Did Not Survive'])*100\n",
        "fr.drop(['Survived', 'Did Not Survive'], axis=1, inplace=True)\n",
        "fr.plot(kind='bar', stacked=True);\n",
        "plt.title(\"% Survival by Fare Range\");\n",
        "plt.xlabel(\"Fare Range\");\n",
        "plt.xticks(rotation=0);\n",
        "plt.ylabel(\"Passengers\");\n",
        "plt.show();\n"
      ],
      "metadata": {
        "colab": {
          "base_uri": "https://localhost:8080/",
          "height": 1000
        },
        "id": "odeYPszn-kmo",
        "outputId": "6a719596-bd43-4209-f767-185a8c8d9abe"
      },
      "execution_count": null,
      "outputs": [
        {
          "output_type": "stream",
          "name": "stdout",
          "text": [
            "\n",
            "\n"
          ]
        },
        {
          "output_type": "display_data",
          "data": {
            "text/plain": [
              "<Figure size 720x576 with 1 Axes>"
            ],
            "image/png": "[encoded data removed]"
          },
          "metadata": {}
        },
        {
          "output_type": "display_data",
          "data": {
            "text/plain": [
              "<Figure size 720x576 with 1 Axes>"
            ],
            "image/png": "[encoded data removed]"
          },
          "metadata": {}
        }
      ]
    },
    {
      "cell_type": "code",
      "source": [
        "# Average Fare by Embarkment & Deck\n",
        "e = all.groupby(['Embarked', 'Deck'])['Fare'].mean().to_frame();\n",
        "e.reset_index(inplace=True)\n",
        "e"
      ],
      "metadata": {
        "colab": {
          "base_uri": "https://localhost:8080/",
          "height": 677
        },
        "id": "dWHR3B87JAVG",
        "outputId": "5245566a-d0a4-45f2-9315-6f31fe2565a2"
      },
      "execution_count": null,
      "outputs": [
        {
          "output_type": "execute_result",
          "data": {
            "text/plain": [
              "   Embarked Deck        Fare\n",
              "0         C    A   35.209473\n",
              "1         C    B  167.461069\n",
              "2         C    C  106.259044\n",
              "3         C    D   63.368130\n",
              "4         C    E   99.071591\n",
              "5         C    F   12.272233\n",
              "6         C    n   28.514120\n",
              "7         Q    C   90.000000\n",
              "8         Q    E   12.350000\n",
              "9         Q    F    7.750000\n",
              "10        Q    n   10.476343\n",
              "11        S    A   47.279155\n",
              "12        S    B   78.585352\n",
              "13        S    C  110.369588\n",
              "14        S    D   45.037500\n",
              "15        S    E   39.138362\n",
              "16        S    F   19.711765\n",
              "17        S    G   14.205000\n",
              "18        S    T   35.500000\n",
              "19        S    n   18.588261"
            ],
            "text/html": [
              "\n",
              "  <div id=\"df-4429af24-54e2-4d01-9ed4-0292d7713e47\">\n",
              "    <div class=\"colab-df-container\">\n",
              "      <div>\n",
              "<style scoped>\n",
              "    .dataframe tbody tr th:only-of-type {\n",
              "        vertical-align: middle;\n",
              "    }\n",
              "\n",
              "    .dataframe tbody tr th {\n",
              "        vertical-align: top;\n",
              "    }\n",
              "\n",
              "    .dataframe thead th {\n",
              "        text-align: right;\n",
              "    }\n",
              "</style>\n",
              "<table border=\"1\" class=\"dataframe\">\n",
              "  <thead>\n",
              "    <tr style=\"text-align: right;\">\n",
              "      <th></th>\n",
              "      <th>Embarked</th>\n",
              "      <th>Deck</th>\n",
              "      <th>Fare</th>\n",
              "    </tr>\n",
              "  </thead>\n",
              "  <tbody>\n",
              "    <tr>\n",
              "      <th>0</th>\n",
              "      <td>C</td>\n",
              "      <td>A</td>\n",
              "      <td>35.209473</td>\n",
              "    </tr>\n",
              "    <tr>\n",
              "      <th>1</th>\n",
              "      <td>C</td>\n",
              "      <td>B</td>\n",
              "      <td>167.461069</td>\n",
              "    </tr>\n",
              "    <tr>\n",
              "      <th>2</th>\n",
              "      <td>C</td>\n",
              "      <td>C</td>\n",
              "      <td>106.259044</td>\n",
              "    </tr>\n",
              "    <tr>\n",
              "      <th>3</th>\n",
              "      <td>C</td>\n",
              "      <td>D</td>\n",
              "      <td>63.368130</td>\n",
              "    </tr>\n",
              "    <tr>\n",
              "      <th>4</th>\n",
              "      <td>C</td>\n",
              "      <td>E</td>\n",
              "      <td>99.071591</td>\n",
              "    </tr>\n",
              "    <tr>\n",
              "      <th>5</th>\n",
              "      <td>C</td>\n",
              "      <td>F</td>\n",
              "      <td>12.272233</td>\n",
              "    </tr>\n",
              "    <tr>\n",
              "      <th>6</th>\n",
              "      <td>C</td>\n",
              "      <td>n</td>\n",
              "      <td>28.514120</td>\n",
              "    </tr>\n",
              "    <tr>\n",
              "      <th>7</th>\n",
              "      <td>Q</td>\n",
              "      <td>C</td>\n",
              "      <td>90.000000</td>\n",
              "    </tr>\n",
              "    <tr>\n",
              "      <th>8</th>\n",
              "      <td>Q</td>\n",
              "      <td>E</td>\n",
              "      <td>12.350000</td>\n",
              "    </tr>\n",
              "    <tr>\n",
              "      <th>9</th>\n",
              "      <td>Q</td>\n",
              "      <td>F</td>\n",
              "      <td>7.750000</td>\n",
              "    </tr>\n",
              "    <tr>\n",
              "      <th>10</th>\n",
              "      <td>Q</td>\n",
              "      <td>n</td>\n",
              "      <td>10.476343</td>\n",
              "    </tr>\n",
              "    <tr>\n",
              "      <th>11</th>\n",
              "      <td>S</td>\n",
              "      <td>A</td>\n",
              "      <td>47.279155</td>\n",
              "    </tr>\n",
              "    <tr>\n",
              "      <th>12</th>\n",
              "      <td>S</td>\n",
              "      <td>B</td>\n",
              "      <td>78.585352</td>\n",
              "    </tr>\n",
              "    <tr>\n",
              "      <th>13</th>\n",
              "      <td>S</td>\n",
              "      <td>C</td>\n",
              "      <td>110.369588</td>\n",
              "    </tr>\n",
              "    <tr>\n",
              "      <th>14</th>\n",
              "      <td>S</td>\n",
              "      <td>D</td>\n",
              "      <td>45.037500</td>\n",
              "    </tr>\n",
              "    <tr>\n",
              "      <th>15</th>\n",
              "      <td>S</td>\n",
              "      <td>E</td>\n",
              "      <td>39.138362</td>\n",
              "    </tr>\n",
              "    <tr>\n",
              "      <th>16</th>\n",
              "      <td>S</td>\n",
              "      <td>F</td>\n",
              "      <td>19.711765</td>\n",
              "    </tr>\n",
              "    <tr>\n",
              "      <th>17</th>\n",
              "      <td>S</td>\n",
              "      <td>G</td>\n",
              "      <td>14.205000</td>\n",
              "    </tr>\n",
              "    <tr>\n",
              "      <th>18</th>\n",
              "      <td>S</td>\n",
              "      <td>T</td>\n",
              "      <td>35.500000</td>\n",
              "    </tr>\n",
              "    <tr>\n",
              "      <th>19</th>\n",
              "      <td>S</td>\n",
              "      <td>n</td>\n",
              "      <td>18.588261</td>\n",
              "    </tr>\n",
              "  </tbody>\n",
              "</table>\n",
              "</div>\n",
              "      <button class=\"colab-df-convert\" onclick=\"convertToInteractive('df-4429af24-54e2-4d01-9ed4-0292d7713e47')\"\n",
              "              title=\"Convert this dataframe to an interactive table.\"\n",
              "              style=\"display:none;\">\n",
              "        \n",
              "  <svg xmlns=\"http://www.w3.org/2000/svg\" height=\"24px\"viewBox=\"0 0 24 24\"\n",
              "       width=\"24px\">\n",
              "    <path d=\"M0 0h24v24H0V0z\" fill=\"none\"/>\n",
              "    <path d=\"M18.56 5.44l.94 2.06.94-2.06 2.06-.94-2.06-.94-.94-2.06-.94 2.06-2.06.94zm-11 1L8.5 8.5l.94-2.06 2.06-.94-2.06-.94L8.5 2.5l-.94 2.06-2.06.94zm10 10l.94 2.06.94-2.06 2.06-.94-2.06-.94-.94-2.06-.94 2.06-2.06.94z\"/><path d=\"M17.41 7.96l-1.37-1.37c-.4-.4-.92-.59-1.43-.59-.52 0-1.04.2-1.43.59L10.3 9.45l-7.72 7.72c-.78.78-.78 2.05 0 2.83L4 21.41c.39.39.9.59 1.41.59.51 0 1.02-.2 1.41-.59l7.78-7.78 2.81-2.81c.8-.78.8-2.07 0-2.86zM5.41 20L4 18.59l7.72-7.72 1.47 1.35L5.41 20z\"/>\n",
              "  </svg>\n",
              "      </button>\n",
              "      \n",
              "  <style>\n",
              "    .colab-df-container {\n",
              "      display:flex;\n",
              "      flex-wrap:wrap;\n",
              "      gap: 12px;\n",
              "    }\n",
              "\n",
              "    .colab-df-convert {\n",
              "      background-color: #E8F0FE;\n",
              "      border: none;\n",
              "      border-radius: 50%;\n",
              "      cursor: pointer;\n",
              "      display: none;\n",
              "      fill: #1967D2;\n",
              "      height: 32px;\n",
              "      padding: 0 0 0 0;\n",
              "      width: 32px;\n",
              "    }\n",
              "\n",
              "    .colab-df-convert:hover {\n",
              "      background-color: #E2EBFA;\n",
              "      box-shadow: 0px 1px 2px rgba(60, 64, 67, 0.3), 0px 1px 3px 1px rgba(60, 64, 67, 0.15);\n",
              "      fill: #174EA6;\n",
              "    }\n",
              "\n",
              "    [theme=dark] .colab-df-convert {\n",
              "      background-color: #3B4455;\n",
              "      fill: #D2E3FC;\n",
              "    }\n",
              "\n",
              "    [theme=dark] .colab-df-convert:hover {\n",
              "      background-color: #434B5C;\n",
              "      box-shadow: 0px 1px 3px 1px rgba(0, 0, 0, 0.15);\n",
              "      filter: drop-shadow(0px 1px 2px rgba(0, 0, 0, 0.3));\n",
              "      fill: #FFFFFF;\n",
              "    }\n",
              "  </style>\n",
              "\n",
              "      <script>\n",
              "        const buttonEl =\n",
              "          document.querySelector('#df-4429af24-54e2-4d01-9ed4-0292d7713e47 button.colab-df-convert');\n",
              "        buttonEl.style.display =\n",
              "          google.colab.kernel.accessAllowed ? 'block' : 'none';\n",
              "\n",
              "        async function convertToInteractive(key) {\n",
              "          const element = document.querySelector('#df-4429af24-54e2-4d01-9ed4-0292d7713e47');\n",
              "          const dataTable =\n",
              "            await google.colab.kernel.invokeFunction('convertToInteractive',\n",
              "                                                     [key], {});\n",
              "          if (!dataTable) return;\n",
              "\n",
              "          const docLinkHtml = 'Like what you see? Visit the ' +\n",
              "            '<a target=\"_blank\" href=https://colab.research.google.com/notebooks/data_table.ipynb>data table notebook</a>'\n",
              "            + ' to learn more about interactive tables.';\n",
              "          element.innerHTML = '';\n",
              "          dataTable['output_type'] = 'display_data';\n",
              "          await google.colab.output.renderOutput(dataTable, element);\n",
              "          const docLink = document.createElement('div');\n",
              "          docLink.innerHTML = docLinkHtml;\n",
              "          element.appendChild(docLink);\n",
              "        }\n",
              "      </script>\n",
              "    </div>\n",
              "  </div>\n",
              "  "
            ]
          },
          "metadata": {},
          "execution_count": 23
        }
      ]
    },
    {
      "cell_type": "markdown",
      "source": [
        "### **EMBARKMENT & AGE**"
      ],
      "metadata": {
        "id": "JTfRUfSZURxg"
      }
    },
    {
      "cell_type": "code",
      "source": [
        "emba = all.drop(['PassengerId', 'Survived', 'Pclass', 'Sex', 'SibSp', 'Parch', 'Fare', 'Cabin', 'Fare Range'], axis=1, inplace=False) \n",
        "\n",
        "emba.reset_index(inplace=True)\n",
        "fig, axs = plt.subplots(1, 3, figsize=(20,4))\n",
        "\n",
        "sns.histplot(data=emba[emba['Embarked']=='C'], x=\"Age\", kde=True, color=\"skyblue\", ax=axs[0]).set_title('Embarked C', fontsize=12, color='#30302f', loc='center')\n",
        "sns.histplot(data=emba[emba['Embarked']=='S'], x=\"Age\", kde=True, color=\"olive\", ax=axs[1]).set_title('Embarked S', fontsize=12, color='#30302f', loc='center')\n",
        "sns.histplot(data=emba[emba['Embarked']=='Q'], x=\"Age\", kde=True, color=\"gold\", ax=axs[2]).set_title('Embarked Q', fontsize=12, color='#30302f', loc='center')\n",
        "\n",
        "plt.suptitle(\"Age Distribution by Embarkment\")\n",
        "plt.subplots_adjust(left=0.1,\n",
        "                    bottom=0.1, \n",
        "                    right=0.9, \n",
        "                    top=0.9, \n",
        "                    wspace=0.4, \n",
        "                    hspace=0.4)\n",
        "\n",
        "plt.show();\n",
        "\n",
        "c = emba.groupby(['Embarked', 'Deck'])['Age'].mean();\n",
        "c = c.to_frame()\n",
        "c.reset_index(inplace=True)\n",
        "c"
      ],
      "metadata": {
        "colab": {
          "base_uri": "https://localhost:8080/",
          "height": 920
        },
        "id": "d2lNDzQjUZVy",
        "outputId": "4de691f6-22c2-4bda-a921-3f91aaa20786"
      },
      "execution_count": null,
      "outputs": [
        {
          "output_type": "execute_result",
          "data": {
            "text/plain": [
              "Text(0.5, 1.0, 'Embarked C')"
            ]
          },
          "metadata": {},
          "execution_count": 24
        },
        {
          "output_type": "execute_result",
          "data": {
            "text/plain": [
              "Text(0.5, 1.0, 'Embarked S')"
            ]
          },
          "metadata": {},
          "execution_count": 24
        },
        {
          "output_type": "execute_result",
          "data": {
            "text/plain": [
              "Text(0.5, 1.0, 'Embarked Q')"
            ]
          },
          "metadata": {},
          "execution_count": 24
        },
        {
          "output_type": "execute_result",
          "data": {
            "text/plain": [
              "Text(0.5, 0.98, 'Age Distribution by Embarkment')"
            ]
          },
          "metadata": {},
          "execution_count": 24
        },
        {
          "output_type": "display_data",
          "data": {
            "text/plain": [
              "<Figure size 1440x288 with 3 Axes>"
            ],
            "image/png": "[encoded data removed]"
          },
          "metadata": {}
        },
        {
          "output_type": "execute_result",
          "data": {
            "text/plain": [
              "   Embarked Deck        Age\n",
              "0         C    A  46.272727\n",
              "1         C    B  37.516129\n",
              "2         C    C  36.987179\n",
              "3         C    D  40.868421\n",
              "4         C    E  34.818182\n",
              "5         C    F  25.000000\n",
              "6         C    n  25.554200\n",
              "7         Q    C  38.000000\n",
              "8         Q    E        NaN\n",
              "9         Q    F        NaN\n",
              "10        Q    n  28.031915\n",
              "11        S    A  41.250000\n",
              "12        S    B  34.500000\n",
              "13        S    C  39.645909\n",
              "14        S    D  38.739130\n",
              "15        S    E  39.462963\n",
              "16        S    F  21.117647\n",
              "17        S    G  12.000000\n",
              "18        S    T  45.000000\n",
              "19        S    n  27.655231"
            ],
            "text/html": [
              "\n",
              "  <div id=\"df-441cc6c5-0c2e-4f6b-95d9-2274254dd326\">\n",
              "    <div class=\"colab-df-container\">\n",
              "      <div>\n",
              "<style scoped>\n",
              "    .dataframe tbody tr th:only-of-type {\n",
              "        vertical-align: middle;\n",
              "    }\n",
              "\n",
              "    .dataframe tbody tr th {\n",
              "        vertical-align: top;\n",
              "    }\n",
              "\n",
              "    .dataframe thead th {\n",
              "        text-align: right;\n",
              "    }\n",
              "</style>\n",
              "<table border=\"1\" class=\"dataframe\">\n",
              "  <thead>\n",
              "    <tr style=\"text-align: right;\">\n",
              "      <th></th>\n",
              "      <th>Embarked</th>\n",
              "      <th>Deck</th>\n",
              "      <th>Age</th>\n",
              "    </tr>\n",
              "  </thead>\n",
              "  <tbody>\n",
              "    <tr>\n",
              "      <th>0</th>\n",
              "      <td>C</td>\n",
              "      <td>A</td>\n",
              "      <td>46.272727</td>\n",
              "    </tr>\n",
              "    <tr>\n",
              "      <th>1</th>\n",
              "      <td>C</td>\n",
              "      <td>B</td>\n",
              "      <td>37.516129</td>\n",
              "    </tr>\n",
              "    <tr>\n",
              "      <th>2</th>\n",
              "      <td>C</td>\n",
              "      <td>C</td>\n",
              "      <td>36.987179</td>\n",
              "    </tr>\n",
              "    <tr>\n",
              "      <th>3</th>\n",
              "      <td>C</td>\n",
              "      <td>D</td>\n",
              "      <td>40.868421</td>\n",
              "    </tr>\n",
              "    <tr>\n",
              "      <th>4</th>\n",
              "      <td>C</td>\n",
              "      <td>E</td>\n",
              "      <td>34.818182</td>\n",
              "    </tr>\n",
              "    <tr>\n",
              "      <th>5</th>\n",
              "      <td>C</td>\n",
              "      <td>F</td>\n",
              "      <td>25.000000</td>\n",
              "    </tr>\n",
              "    <tr>\n",
              "      <th>6</th>\n",
              "      <td>C</td>\n",
              "      <td>n</td>\n",
              "      <td>25.554200</td>\n",
              "    </tr>\n",
              "    <tr>\n",
              "      <th>7</th>\n",
              "      <td>Q</td>\n",
              "      <td>C</td>\n",
              "      <td>38.000000</td>\n",
              "    </tr>\n",
              "    <tr>\n",
              "      <th>8</th>\n",
              "      <td>Q</td>\n",
              "      <td>E</td>\n",
              "      <td>NaN</td>\n",
              "    </tr>\n",
              "    <tr>\n",
              "      <th>9</th>\n",
              "      <td>Q</td>\n",
              "      <td>F</td>\n",
              "      <td>NaN</td>\n",
              "    </tr>\n",
              "    <tr>\n",
              "      <th>10</th>\n",
              "      <td>Q</td>\n",
              "      <td>n</td>\n",
              "      <td>28.031915</td>\n",
              "    </tr>\n",
              "    <tr>\n",
              "      <th>11</th>\n",
              "      <td>S</td>\n",
              "      <td>A</td>\n",
              "      <td>41.250000</td>\n",
              "    </tr>\n",
              "    <tr>\n",
              "      <th>12</th>\n",
              "      <td>S</td>\n",
              "      <td>B</td>\n",
              "      <td>34.500000</td>\n",
              "    </tr>\n",
              "    <tr>\n",
              "      <th>13</th>\n",
              "      <td>S</td>\n",
              "      <td>C</td>\n",
              "      <td>39.645909</td>\n",
              "    </tr>\n",
              "    <tr>\n",
              "      <th>14</th>\n",
              "      <td>S</td>\n",
              "      <td>D</td>\n",
              "      <td>38.739130</td>\n",
              "    </tr>\n",
              "    <tr>\n",
              "      <th>15</th>\n",
              "      <td>S</td>\n",
              "      <td>E</td>\n",
              "      <td>39.462963</td>\n",
              "    </tr>\n",
              "    <tr>\n",
              "      <th>16</th>\n",
              "      <td>S</td>\n",
              "      <td>F</td>\n",
              "      <td>21.117647</td>\n",
              "    </tr>\n",
              "    <tr>\n",
              "      <th>17</th>\n",
              "      <td>S</td>\n",
              "      <td>G</td>\n",
              "      <td>12.000000</td>\n",
              "    </tr>\n",
              "    <tr>\n",
              "      <th>18</th>\n",
              "      <td>S</td>\n",
              "      <td>T</td>\n",
              "      <td>45.000000</td>\n",
              "    </tr>\n",
              "    <tr>\n",
              "      <th>19</th>\n",
              "      <td>S</td>\n",
              "      <td>n</td>\n",
              "      <td>27.655231</td>\n",
              "    </tr>\n",
              "  </tbody>\n",
              "</table>\n",
              "</div>\n",
              "      <button class=\"colab-df-convert\" onclick=\"convertToInteractive('df-441cc6c5-0c2e-4f6b-95d9-2274254dd326')\"\n",
              "              title=\"Convert this dataframe to an interactive table.\"\n",
              "              style=\"display:none;\">\n",
              "        \n",
              "  <svg xmlns=\"http://www.w3.org/2000/svg\" height=\"24px\"viewBox=\"0 0 24 24\"\n",
              "       width=\"24px\">\n",
              "    <path d=\"M0 0h24v24H0V0z\" fill=\"none\"/>\n",
              "    <path d=\"M18.56 5.44l.94 2.06.94-2.06 2.06-.94-2.06-.94-.94-2.06-.94 2.06-2.06.94zm-11 1L8.5 8.5l.94-2.06 2.06-.94-2.06-.94L8.5 2.5l-.94 2.06-2.06.94zm10 10l.94 2.06.94-2.06 2.06-.94-2.06-.94-.94-2.06-.94 2.06-2.06.94z\"/><path d=\"M17.41 7.96l-1.37-1.37c-.4-.4-.92-.59-1.43-.59-.52 0-1.04.2-1.43.59L10.3 9.45l-7.72 7.72c-.78.78-.78 2.05 0 2.83L4 21.41c.39.39.9.59 1.41.59.51 0 1.02-.2 1.41-.59l7.78-7.78 2.81-2.81c.8-.78.8-2.07 0-2.86zM5.41 20L4 18.59l7.72-7.72 1.47 1.35L5.41 20z\"/>\n",
              "  </svg>\n",
              "      </button>\n",
              "      \n",
              "  <style>\n",
              "    .colab-df-container {\n",
              "      display:flex;\n",
              "      flex-wrap:wrap;\n",
              "      gap: 12px;\n",
              "    }\n",
              "\n",
              "    .colab-df-convert {\n",
              "      background-color: #E8F0FE;\n",
              "      border: none;\n",
              "      border-radius: 50%;\n",
              "      cursor: pointer;\n",
              "      display: none;\n",
              "      fill: #1967D2;\n",
              "      height: 32px;\n",
              "      padding: 0 0 0 0;\n",
              "      width: 32px;\n",
              "    }\n",
              "\n",
              "    .colab-df-convert:hover {\n",
              "      background-color: #E2EBFA;\n",
              "      box-shadow: 0px 1px 2px rgba(60, 64, 67, 0.3), 0px 1px 3px 1px rgba(60, 64, 67, 0.15);\n",
              "      fill: #174EA6;\n",
              "    }\n",
              "\n",
              "    [theme=dark] .colab-df-convert {\n",
              "      background-color: #3B4455;\n",
              "      fill: #D2E3FC;\n",
              "    }\n",
              "\n",
              "    [theme=dark] .colab-df-convert:hover {\n",
              "      background-color: #434B5C;\n",
              "      box-shadow: 0px 1px 3px 1px rgba(0, 0, 0, 0.15);\n",
              "      filter: drop-shadow(0px 1px 2px rgba(0, 0, 0, 0.3));\n",
              "      fill: #FFFFFF;\n",
              "    }\n",
              "  </style>\n",
              "\n",
              "      <script>\n",
              "        const buttonEl =\n",
              "          document.querySelector('#df-441cc6c5-0c2e-4f6b-95d9-2274254dd326 button.colab-df-convert');\n",
              "        buttonEl.style.display =\n",
              "          google.colab.kernel.accessAllowed ? 'block' : 'none';\n",
              "\n",
              "        async function convertToInteractive(key) {\n",
              "          const element = document.querySelector('#df-441cc6c5-0c2e-4f6b-95d9-2274254dd326');\n",
              "          const dataTable =\n",
              "            await google.colab.kernel.invokeFunction('convertToInteractive',\n",
              "                                                     [key], {});\n",
              "          if (!dataTable) return;\n",
              "\n",
              "          const docLinkHtml = 'Like what you see? Visit the ' +\n",
              "            '<a target=\"_blank\" href=https://colab.research.google.com/notebooks/data_table.ipynb>data table notebook</a>'\n",
              "            + ' to learn more about interactive tables.';\n",
              "          element.innerHTML = '';\n",
              "          dataTable['output_type'] = 'display_data';\n",
              "          await google.colab.output.renderOutput(dataTable, element);\n",
              "          const docLink = document.createElement('div');\n",
              "          docLink.innerHTML = docLinkHtml;\n",
              "          element.appendChild(docLink);\n",
              "        }\n",
              "      </script>\n",
              "    </div>\n",
              "  </div>\n",
              "  "
            ]
          },
          "metadata": {},
          "execution_count": 24
        }
      ]
    },
    {
      "cell_type": "code",
      "source": [
        "train_nfg = train\n",
        "test_nfg = test\n",
        "train.isna().sum()\n",
        "test[test['Fare'].isna()]"
      ],
      "metadata": {
        "colab": {
          "base_uri": "https://localhost:8080/",
          "height": 289
        },
        "id": "vjUHVcItG2jt",
        "outputId": "39dbdac2-6716-4ad3-a13f-24c5f8dc4c49"
      },
      "execution_count": null,
      "outputs": [
        {
          "output_type": "execute_result",
          "data": {
            "text/plain": [
              "PassengerId      0\n",
              "Survived         0\n",
              "Pclass           0\n",
              "Sex              0\n",
              "Age            177\n",
              "SibSp            0\n",
              "Parch            0\n",
              "Fare             0\n",
              "Cabin            0\n",
              "Embarked         2\n",
              "Deck             0\n",
              "dtype: int64"
            ]
          },
          "metadata": {},
          "execution_count": 25
        },
        {
          "output_type": "execute_result",
          "data": {
            "text/plain": [
              "     PassengerId  Pclass   Sex   Age  SibSp  Parch  Fare Cabin Embarked Deck\n",
              "152         1044       3  male  60.5      0      0   NaN   nan        S    n"
            ],
            "text/html": [
              "\n",
              "  <div id=\"df-cde0e416-1aa1-40dc-b834-94057c400049\">\n",
              "    <div class=\"colab-df-container\">\n",
              "      <div>\n",
              "<style scoped>\n",
              "    .dataframe tbody tr th:only-of-type {\n",
              "        vertical-align: middle;\n",
              "    }\n",
              "\n",
              "    .dataframe tbody tr th {\n",
              "        vertical-align: top;\n",
              "    }\n",
              "\n",
              "    .dataframe thead th {\n",
              "        text-align: right;\n",
              "    }\n",
              "</style>\n",
              "<table border=\"1\" class=\"dataframe\">\n",
              "  <thead>\n",
              "    <tr style=\"text-align: right;\">\n",
              "      <th></th>\n",
              "      <th>PassengerId</th>\n",
              "      <th>Pclass</th>\n",
              "      <th>Sex</th>\n",
              "      <th>Age</th>\n",
              "      <th>SibSp</th>\n",
              "      <th>Parch</th>\n",
              "      <th>Fare</th>\n",
              "      <th>Cabin</th>\n",
              "      <th>Embarked</th>\n",
              "      <th>Deck</th>\n",
              "    </tr>\n",
              "  </thead>\n",
              "  <tbody>\n",
              "    <tr>\n",
              "      <th>152</th>\n",
              "      <td>1044</td>\n",
              "      <td>3</td>\n",
              "      <td>male</td>\n",
              "      <td>60.5</td>\n",
              "      <td>0</td>\n",
              "      <td>0</td>\n",
              "      <td>NaN</td>\n",
              "      <td>nan</td>\n",
              "      <td>S</td>\n",
              "      <td>n</td>\n",
              "    </tr>\n",
              "  </tbody>\n",
              "</table>\n",
              "</div>\n",
              "      <button class=\"colab-df-convert\" onclick=\"convertToInteractive('df-cde0e416-1aa1-40dc-b834-94057c400049')\"\n",
              "              title=\"Convert this dataframe to an interactive table.\"\n",
              "              style=\"display:none;\">\n",
              "        \n",
              "  <svg xmlns=\"http://www.w3.org/2000/svg\" height=\"24px\"viewBox=\"0 0 24 24\"\n",
              "       width=\"24px\">\n",
              "    <path d=\"M0 0h24v24H0V0z\" fill=\"none\"/>\n",
              "    <path d=\"M18.56 5.44l.94 2.06.94-2.06 2.06-.94-2.06-.94-.94-2.06-.94 2.06-2.06.94zm-11 1L8.5 8.5l.94-2.06 2.06-.94-2.06-.94L8.5 2.5l-.94 2.06-2.06.94zm10 10l.94 2.06.94-2.06 2.06-.94-2.06-.94-.94-2.06-.94 2.06-2.06.94z\"/><path d=\"M17.41 7.96l-1.37-1.37c-.4-.4-.92-.59-1.43-.59-.52 0-1.04.2-1.43.59L10.3 9.45l-7.72 7.72c-.78.78-.78 2.05 0 2.83L4 21.41c.39.39.9.59 1.41.59.51 0 1.02-.2 1.41-.59l7.78-7.78 2.81-2.81c.8-.78.8-2.07 0-2.86zM5.41 20L4 18.59l7.72-7.72 1.47 1.35L5.41 20z\"/>\n",
              "  </svg>\n",
              "      </button>\n",
              "      \n",
              "  <style>\n",
              "    .colab-df-container {\n",
              "      display:flex;\n",
              "      flex-wrap:wrap;\n",
              "      gap: 12px;\n",
              "    }\n",
              "\n",
              "    .colab-df-convert {\n",
              "      background-color: #E8F0FE;\n",
              "      border: none;\n",
              "      border-radius: 50%;\n",
              "      cursor: pointer;\n",
              "      display: none;\n",
              "      fill: #1967D2;\n",
              "      height: 32px;\n",
              "      padding: 0 0 0 0;\n",
              "      width: 32px;\n",
              "    }\n",
              "\n",
              "    .colab-df-convert:hover {\n",
              "      background-color: #E2EBFA;\n",
              "      box-shadow: 0px 1px 2px rgba(60, 64, 67, 0.3), 0px 1px 3px 1px rgba(60, 64, 67, 0.15);\n",
              "      fill: #174EA6;\n",
              "    }\n",
              "\n",
              "    [theme=dark] .colab-df-convert {\n",
              "      background-color: #3B4455;\n",
              "      fill: #D2E3FC;\n",
              "    }\n",
              "\n",
              "    [theme=dark] .colab-df-convert:hover {\n",
              "      background-color: #434B5C;\n",
              "      box-shadow: 0px 1px 3px 1px rgba(0, 0, 0, 0.15);\n",
              "      filter: drop-shadow(0px 1px 2px rgba(0, 0, 0, 0.3));\n",
              "      fill: #FFFFFF;\n",
              "    }\n",
              "  </style>\n",
              "\n",
              "      <script>\n",
              "        const buttonEl =\n",
              "          document.querySelector('#df-cde0e416-1aa1-40dc-b834-94057c400049 button.colab-df-convert');\n",
              "        buttonEl.style.display =\n",
              "          google.colab.kernel.accessAllowed ? 'block' : 'none';\n",
              "\n",
              "        async function convertToInteractive(key) {\n",
              "          const element = document.querySelector('#df-cde0e416-1aa1-40dc-b834-94057c400049');\n",
              "          const dataTable =\n",
              "            await google.colab.kernel.invokeFunction('convertToInteractive',\n",
              "                                                     [key], {});\n",
              "          if (!dataTable) return;\n",
              "\n",
              "          const docLinkHtml = 'Like what you see? Visit the ' +\n",
              "            '<a target=\"_blank\" href=https://colab.research.google.com/notebooks/data_table.ipynb>data table notebook</a>'\n",
              "            + ' to learn more about interactive tables.';\n",
              "          element.innerHTML = '';\n",
              "          dataTable['output_type'] = 'display_data';\n",
              "          await google.colab.output.renderOutput(dataTable, element);\n",
              "          const docLink = document.createElement('div');\n",
              "          docLink.innerHTML = docLinkHtml;\n",
              "          element.appendChild(docLink);\n",
              "        }\n",
              "      </script>\n",
              "    </div>\n",
              "  </div>\n",
              "  "
            ]
          },
          "metadata": {},
          "execution_count": 25
        }
      ]
    },
    {
      "cell_type": "code",
      "source": [
        "d = emba.groupby(['Embarked'])['Age'].mean().to_frame();\n",
        "d.reset_index(inplace=True)\n",
        "d = d[d['Embarked']=='Q']\n",
        "d"
      ],
      "metadata": {
        "colab": {
          "base_uri": "https://localhost:8080/",
          "height": 81
        },
        "id": "ZxhJ0X-NE9lm",
        "outputId": "359a7383-7685-4a1a-ef86-450f68e77b30"
      },
      "execution_count": null,
      "outputs": [
        {
          "output_type": "execute_result",
          "data": {
            "text/plain": [
              "  Embarked    Age\n",
              "1        Q  28.63"
            ],
            "text/html": [
              "\n",
              "  <div id=\"df-c0e71edf-d1cd-4a56-8dd7-e84f3576a8e6\">\n",
              "    <div class=\"colab-df-container\">\n",
              "      <div>\n",
              "<style scoped>\n",
              "    .dataframe tbody tr th:only-of-type {\n",
              "        vertical-align: middle;\n",
              "    }\n",
              "\n",
              "    .dataframe tbody tr th {\n",
              "        vertical-align: top;\n",
              "    }\n",
              "\n",
              "    .dataframe thead th {\n",
              "        text-align: right;\n",
              "    }\n",
              "</style>\n",
              "<table border=\"1\" class=\"dataframe\">\n",
              "  <thead>\n",
              "    <tr style=\"text-align: right;\">\n",
              "      <th></th>\n",
              "      <th>Embarked</th>\n",
              "      <th>Age</th>\n",
              "    </tr>\n",
              "  </thead>\n",
              "  <tbody>\n",
              "    <tr>\n",
              "      <th>1</th>\n",
              "      <td>Q</td>\n",
              "      <td>28.63</td>\n",
              "    </tr>\n",
              "  </tbody>\n",
              "</table>\n",
              "</div>\n",
              "      <button class=\"colab-df-convert\" onclick=\"convertToInteractive('df-c0e71edf-d1cd-4a56-8dd7-e84f3576a8e6')\"\n",
              "              title=\"Convert this dataframe to an interactive table.\"\n",
              "              style=\"display:none;\">\n",
              "        \n",
              "  <svg xmlns=\"http://www.w3.org/2000/svg\" height=\"24px\"viewBox=\"0 0 24 24\"\n",
              "       width=\"24px\">\n",
              "    <path d=\"M0 0h24v24H0V0z\" fill=\"none\"/>\n",
              "    <path d=\"M18.56 5.44l.94 2.06.94-2.06 2.06-.94-2.06-.94-.94-2.06-.94 2.06-2.06.94zm-11 1L8.5 8.5l.94-2.06 2.06-.94-2.06-.94L8.5 2.5l-.94 2.06-2.06.94zm10 10l.94 2.06.94-2.06 2.06-.94-2.06-.94-.94-2.06-.94 2.06-2.06.94z\"/><path d=\"M17.41 7.96l-1.37-1.37c-.4-.4-.92-.59-1.43-.59-.52 0-1.04.2-1.43.59L10.3 9.45l-7.72 7.72c-.78.78-.78 2.05 0 2.83L4 21.41c.39.39.9.59 1.41.59.51 0 1.02-.2 1.41-.59l7.78-7.78 2.81-2.81c.8-.78.8-2.07 0-2.86zM5.41 20L4 18.59l7.72-7.72 1.47 1.35L5.41 20z\"/>\n",
              "  </svg>\n",
              "      </button>\n",
              "      \n",
              "  <style>\n",
              "    .colab-df-container {\n",
              "      display:flex;\n",
              "      flex-wrap:wrap;\n",
              "      gap: 12px;\n",
              "    }\n",
              "\n",
              "    .colab-df-convert {\n",
              "      background-color: #E8F0FE;\n",
              "      border: none;\n",
              "      border-radius: 50%;\n",
              "      cursor: pointer;\n",
              "      display: none;\n",
              "      fill: #1967D2;\n",
              "      height: 32px;\n",
              "      padding: 0 0 0 0;\n",
              "      width: 32px;\n",
              "    }\n",
              "\n",
              "    .colab-df-convert:hover {\n",
              "      background-color: #E2EBFA;\n",
              "      box-shadow: 0px 1px 2px rgba(60, 64, 67, 0.3), 0px 1px 3px 1px rgba(60, 64, 67, 0.15);\n",
              "      fill: #174EA6;\n",
              "    }\n",
              "\n",
              "    [theme=dark] .colab-df-convert {\n",
              "      background-color: #3B4455;\n",
              "      fill: #D2E3FC;\n",
              "    }\n",
              "\n",
              "    [theme=dark] .colab-df-convert:hover {\n",
              "      background-color: #434B5C;\n",
              "      box-shadow: 0px 1px 3px 1px rgba(0, 0, 0, 0.15);\n",
              "      filter: drop-shadow(0px 1px 2px rgba(0, 0, 0, 0.3));\n",
              "      fill: #FFFFFF;\n",
              "    }\n",
              "  </style>\n",
              "\n",
              "      <script>\n",
              "        const buttonEl =\n",
              "          document.querySelector('#df-c0e71edf-d1cd-4a56-8dd7-e84f3576a8e6 button.colab-df-convert');\n",
              "        buttonEl.style.display =\n",
              "          google.colab.kernel.accessAllowed ? 'block' : 'none';\n",
              "\n",
              "        async function convertToInteractive(key) {\n",
              "          const element = document.querySelector('#df-c0e71edf-d1cd-4a56-8dd7-e84f3576a8e6');\n",
              "          const dataTable =\n",
              "            await google.colab.kernel.invokeFunction('convertToInteractive',\n",
              "                                                     [key], {});\n",
              "          if (!dataTable) return;\n",
              "\n",
              "          const docLinkHtml = 'Like what you see? Visit the ' +\n",
              "            '<a target=\"_blank\" href=https://colab.research.google.com/notebooks/data_table.ipynb>data table notebook</a>'\n",
              "            + ' to learn more about interactive tables.';\n",
              "          element.innerHTML = '';\n",
              "          dataTable['output_type'] = 'display_data';\n",
              "          await google.colab.output.renderOutput(dataTable, element);\n",
              "          const docLink = document.createElement('div');\n",
              "          docLink.innerHTML = docLinkHtml;\n",
              "          element.appendChild(docLink);\n",
              "        }\n",
              "      </script>\n",
              "    </div>\n",
              "  </div>\n",
              "  "
            ]
          },
          "metadata": {},
          "execution_count": 26
        }
      ]
    },
    {
      "cell_type": "code",
      "source": [
        "train.loc[(train['Age'].isna()) & (train['Embarked']=='C') & (train['Deck']=='A'), 'Age'] = 46.27\n",
        "train.loc[(train['Age'].isna()) & (train['Embarked']=='C') & (train['Deck']=='B'), 'Age'] = 37.52\n",
        "train.loc[(train['Age'].isna()) & (train['Embarked']=='C') & (train['Deck']=='C'), 'Age'] = 36.99\n",
        "train.loc[(train['Age'].isna()) & (train['Embarked']=='C') & (train['Deck']=='D'), 'Age'] = 40.87\n",
        "train.loc[(train['Age'].isna()) & (train['Embarked']=='C') & (train['Deck']=='E'), 'Age'] = 34.82\n",
        "train.loc[(train['Age'].isna()) & (train['Embarked']=='C') & (train['Deck']=='F'), 'Age'] = 25\n",
        "train.loc[(train['Age'].isna()) & (train['Embarked']=='C') & (train['Deck']=='n'), 'Age'] = 25.55\n",
        "train.loc[(train['Age'].isna()) & (train['Embarked']=='Q') & (train['Deck']=='C'), 'Age'] = 38\n",
        "train.loc[(train['Age'].isna()) & (train['Embarked']=='Q') & (train['Deck']=='E'), 'Age'] = 28.63\n",
        "train.loc[(train['Age'].isna()) & (train['Embarked']=='Q') & (train['Deck']=='F'), 'Age'] = 28.63\n",
        "train.loc[(train['Age'].isna()) & (train['Embarked']=='Q') & (train['Deck']=='n'), 'Age'] = 28.03\n",
        "train.loc[(train['Age'].isna()) & (train['Embarked']=='S') & (train['Deck']=='A'), 'Age'] = 41.25\n",
        "train.loc[(train['Age'].isna()) & (train['Embarked']=='S') & (train['Deck']=='B'), 'Age'] = 34.50\n",
        "train.loc[(train['Age'].isna()) & (train['Embarked']=='S') & (train['Deck']=='C'), 'Age'] = 39.65\n",
        "train.loc[(train['Age'].isna()) & (train['Embarked']=='S') & (train['Deck']=='D'), 'Age'] = 38.74\n",
        "train.loc[(train['Age'].isna()) & (train['Embarked']=='S') & (train['Deck']=='E'), 'Age'] = 39.46\n",
        "train.loc[(train['Age'].isna()) & (train['Embarked']=='S') & (train['Deck']=='F'), 'Age'] = 21.12\n",
        "train.loc[(train['Age'].isna()) & (train['Embarked']=='S') & (train['Deck']=='G'), 'Age'] = 12.00\n",
        "train.loc[(train['Age'].isna()) & (train['Embarked']=='S') & (train['Deck']=='T'), 'Age'] = 45\n",
        "train.loc[(train['Age'].isna()) & (train['Embarked']=='S') & (train['Deck']=='n'), 'Age'] = 27.66"
      ],
      "metadata": {
        "id": "CCTZjzfCAt5Y"
      },
      "execution_count": null,
      "outputs": []
    },
    {
      "cell_type": "code",
      "source": [
        "test.loc[(test['Age'].isna()) & (test['Embarked']=='C') & (test['Deck']=='A'), 'Age'] = 46.27\n",
        "test.loc[(test['Age'].isna()) & (test['Embarked']=='C') & (test['Deck']=='B'), 'Age'] = 37.52\n",
        "test.loc[(test['Age'].isna()) & (test['Embarked']=='C') & (test['Deck']=='C'), 'Age'] = 36.99\n",
        "test.loc[(test['Age'].isna()) & (test['Embarked']=='C') & (test['Deck']=='D'), 'Age'] = 40.87\n",
        "test.loc[(test['Age'].isna()) & (test['Embarked']=='C') & (test['Deck']=='E'), 'Age'] = 34.82\n",
        "test.loc[(test['Age'].isna()) & (test['Embarked']=='C') & (test['Deck']=='F'), 'Age'] = 25\n",
        "test.loc[(test['Age'].isna()) & (test['Embarked']=='C') & (test['Deck']=='n'), 'Age'] = 25.55\n",
        "test.loc[(test['Age'].isna()) & (test['Embarked']=='Q') & (test['Deck']=='C'), 'Age'] = 38\n",
        "test.loc[(test['Age'].isna()) & (test['Embarked']=='Q') & (test['Deck']=='E'), 'Age'] = 28.63\n",
        "test.loc[(test['Age'].isna()) & (test['Embarked']=='Q') & (test['Deck']=='F'), 'Age'] = 28.63\n",
        "test.loc[(test['Age'].isna()) & (test['Embarked']=='Q') & (test['Deck']=='n'), 'Age'] = 28.03\n",
        "test.loc[(test['Age'].isna()) & (test['Embarked']=='S') & (test['Deck']=='A'), 'Age'] = 41.25\n",
        "test.loc[(test['Age'].isna()) & (test['Embarked']=='S') & (test['Deck']=='B'), 'Age'] = 34.50\n",
        "test.loc[(test['Age'].isna()) & (test['Embarked']=='S') & (test['Deck']=='C'), 'Age'] = 39.65\n",
        "test.loc[(test['Age'].isna()) & (test['Embarked']=='S') & (test['Deck']=='D'), 'Age'] = 38.74\n",
        "test.loc[(test['Age'].isna()) & (test['Embarked']=='S') & (test['Deck']=='E'), 'Age'] = 39.46\n",
        "test.loc[(test['Age'].isna()) & (test['Embarked']=='S') & (test['Deck']=='F'), 'Age'] = 21.12\n",
        "test.loc[(test['Age'].isna()) & (test['Embarked']=='S') & (test['Deck']=='G'), 'Age'] = 12.00\n",
        "test.loc[(test['Age'].isna()) & (test['Embarked']=='S') & (test['Deck']=='T'), 'Age'] = 45\n",
        "test.loc[(test['Age'].isna()) & (test['Embarked']=='S') & (test['Deck']=='n'), 'Age'] = 27.66\n",
        "test.loc[(test['Fare'].isna()) & (test['Embarked']=='S') & (test['Deck']=='n'), 'Fare'] = 18.59"
      ],
      "metadata": {
        "id": "v2Wfk0YsHToc"
      },
      "execution_count": null,
      "outputs": []
    },
    {
      "cell_type": "code",
      "source": [
        "test.isna().sum()"
      ],
      "metadata": {
        "colab": {
          "base_uri": "https://localhost:8080/"
        },
        "id": "AhiWJFwoJqR0",
        "outputId": "e7535ce4-5d94-4d51-dcdb-ca6b47eaec7c"
      },
      "execution_count": null,
      "outputs": [
        {
          "output_type": "execute_result",
          "data": {
            "text/plain": [
              "PassengerId    0\n",
              "Pclass         0\n",
              "Sex            0\n",
              "Age            0\n",
              "SibSp          0\n",
              "Parch          0\n",
              "Fare           0\n",
              "Cabin          0\n",
              "Embarked       0\n",
              "Deck           0\n",
              "dtype: int64"
            ]
          },
          "metadata": {},
          "execution_count": 29
        }
      ]
    },
    {
      "cell_type": "code",
      "source": [
        "train1 = train\n",
        "test1 = test"
      ],
      "metadata": {
        "id": "iREuh-VwRIMq"
      },
      "execution_count": null,
      "outputs": []
    },
    {
      "cell_type": "code",
      "source": [
        "print('Training Set NULL Values:', train1.isna().sum(), sep='\\n') \n",
        "print('\\n', 'Test Set NULL Values:', test1.isna().sum(), sep='\\n')"
      ],
      "metadata": {
        "colab": {
          "base_uri": "https://localhost:8080/"
        },
        "id": "pOBB-EXID1V3",
        "outputId": "a7acc592-2950-45cb-cc4f-ad870f201a81"
      },
      "execution_count": null,
      "outputs": [
        {
          "output_type": "stream",
          "name": "stdout",
          "text": [
            "Training Set NULL Values:\n",
            "PassengerId    0\n",
            "Survived       0\n",
            "Pclass         0\n",
            "Sex            0\n",
            "Age            0\n",
            "SibSp          0\n",
            "Parch          0\n",
            "Fare           0\n",
            "Cabin          0\n",
            "Embarked       2\n",
            "Deck           0\n",
            "dtype: int64\n",
            "\n",
            "\n",
            "Test Set NULL Values:\n",
            "PassengerId    0\n",
            "Pclass         0\n",
            "Sex            0\n",
            "Age            0\n",
            "SibSp          0\n",
            "Parch          0\n",
            "Fare           0\n",
            "Cabin          0\n",
            "Embarked       0\n",
            "Deck           0\n",
            "dtype: int64\n"
          ]
        }
      ]
    },
    {
      "cell_type": "code",
      "source": [
        "train.info()\n",
        "train.isna().sum()"
      ],
      "metadata": {
        "colab": {
          "base_uri": "https://localhost:8080/"
        },
        "id": "ZnZSagZQIerc",
        "outputId": "f6cba016-c267-4688-eb34-570cc666be0e"
      },
      "execution_count": null,
      "outputs": [
        {
          "output_type": "stream",
          "name": "stdout",
          "text": [
            "<class 'pandas.core.frame.DataFrame'>\n",
            "RangeIndex: 891 entries, 0 to 890\n",
            "Data columns (total 11 columns):\n",
            " #   Column       Non-Null Count  Dtype  \n",
            "---  ------       --------------  -----  \n",
            " 0   PassengerId  891 non-null    int64  \n",
            " 1   Survived     891 non-null    int64  \n",
            " 2   Pclass       891 non-null    int64  \n",
            " 3   Sex          891 non-null    object \n",
            " 4   Age          891 non-null    float64\n",
            " 5   SibSp        891 non-null    int64  \n",
            " 6   Parch        891 non-null    int64  \n",
            " 7   Fare         891 non-null    float64\n",
            " 8   Cabin        891 non-null    object \n",
            " 9   Embarked     889 non-null    object \n",
            " 10  Deck         891 non-null    object \n",
            "dtypes: float64(2), int64(5), object(4)\n",
            "memory usage: 76.7+ KB\n"
          ]
        },
        {
          "output_type": "execute_result",
          "data": {
            "text/plain": [
              "PassengerId    0\n",
              "Survived       0\n",
              "Pclass         0\n",
              "Sex            0\n",
              "Age            0\n",
              "SibSp          0\n",
              "Parch          0\n",
              "Fare           0\n",
              "Cabin          0\n",
              "Embarked       2\n",
              "Deck           0\n",
              "dtype: int64"
            ]
          },
          "metadata": {},
          "execution_count": 32
        }
      ]
    },
    {
      "cell_type": "code",
      "source": [
        "ctrain = train1\n",
        "ctrain.loc[ctrain.Sex==\"male\", 'Sex'] = 1\n",
        "ctrain.loc[ctrain.Sex==\"female\", 'Sex'] = 0\n",
        "ctrain.loc[ctrain.Embarked==\"C\", 'Embarked'] = 1\n",
        "ctrain.loc[ctrain.Embarked==\"Q\", 'Embarked'] = 5\n",
        "ctrain.loc[ctrain.Embarked==\"S\", 'Embarked'] = 10\n",
        "ctrain['Sex'] = ctrain['Sex'].astype(int)\n",
        "ctrain = ctrain[ctrain['Embarked'].notna()]\n",
        "ctrain['Embarked'] = ctrain['Embarked'].astype(int)"
      ],
      "metadata": {
        "id": "ay6ks3coC03U",
        "colab": {
          "base_uri": "https://localhost:8080/"
        },
        "outputId": "46574383-d5af-4315-e0eb-e48db5dd78c5"
      },
      "execution_count": null,
      "outputs": [
        {
          "output_type": "stream",
          "name": "stderr",
          "text": [
            "/usr/local/lib/python3.7/dist-packages/ipykernel_launcher.py:9: SettingWithCopyWarning: \n",
            "A value is trying to be set on a copy of a slice from a DataFrame.\n",
            "Try using .loc[row_indexer,col_indexer] = value instead\n",
            "\n",
            "See the caveats in the documentation: https://pandas.pydata.org/pandas-docs/stable/user_guide/indexing.html#returning-a-view-versus-a-copy\n",
            "  if __name__ == '__main__':\n"
          ]
        }
      ]
    },
    {
      "cell_type": "code",
      "source": [
        "ctest = test1\n",
        "ctest.loc[ctest.Sex==\"male\", 'Sex'] = 1\n",
        "ctest.loc[ctest.Sex==\"female\", 'Sex'] = 0\n",
        "ctest.loc[ctest.Embarked==\"C\", 'Embarked'] = 1\n",
        "ctest.loc[ctest.Embarked==\"Q\", 'Embarked'] = 5\n",
        "ctest.loc[ctest.Embarked==\"S\", 'Embarked'] = 10\n",
        "ctest['Sex'] = ctest['Sex'].astype(int)\n",
        "ctest = ctest[ctest['Embarked'].notna()]\n",
        "ctest['Embarked'] = ctest['Embarked'].astype(int)"
      ],
      "metadata": {
        "id": "JZRUTIYM_zZY"
      },
      "execution_count": null,
      "outputs": []
    },
    {
      "cell_type": "markdown",
      "source": [
        "## Visualize the Data"
      ],
      "metadata": {
        "id": "ynohDI9fNOmJ"
      }
    },
    {
      "cell_type": "code",
      "source": [
        "ax = sns.heatmap(ctrain.corr(), annot=True, cmap='PiYG')"
      ],
      "metadata": {
        "colab": {
          "base_uri": "https://localhost:8080/",
          "height": 546
        },
        "id": "SEGkMAvK-IVp",
        "outputId": "b56dcfba-f151-4cc4-97bc-510747a98a3c"
      },
      "execution_count": null,
      "outputs": [
        {
          "output_type": "display_data",
          "data": {
            "text/plain": [
              "<Figure size 720x576 with 2 Axes>"
            ],
            "image/png": "[encoded data removed]"
          },
          "metadata": {}
        }
      ]
    },
    {
      "cell_type": "code",
      "source": [
        "plt.rcParams[\"figure.figsize\"] = (10,8)\n",
        "\n",
        "def draw_histograms(df, variables, n_rows, n_cols):\n",
        "    fig=plt.figure()\n",
        "    for i, var_name in enumerate(variables):\n",
        "        ax=fig.add_subplot(n_rows,n_cols,i+1)\n",
        "        df[var_name].hist(bins=10,ax=ax)\n",
        "        ax.set_title(var_name+\" Distribution\")\n",
        "    fig.tight_layout()  # Improves appearance a bit.\n",
        "    plt.show()\n",
        "\n",
        "draw_histograms(test1, test1.columns, 5, 5)"
      ],
      "metadata": {
        "colab": {
          "base_uri": "https://localhost:8080/",
          "height": 251
        },
        "id": "VRHDTGaHFlqz",
        "outputId": "a1ae12c5-0872-4245-c6e7-342db2ba4ceb"
      },
      "execution_count": null,
      "outputs": [
        {
          "output_type": "display_data",
          "data": {
            "text/plain": [
              "<Figure size 720x576 with 10 Axes>"
            ],
            "image/png": "[encoded data removed]"
          },
          "metadata": {}
        }
      ]
    },
    {
      "cell_type": "code",
      "source": [
        "train1.drop(['Cabin', 'Embarked', 'Deck'], axis=1, inplace=True)\n",
        "test1.drop(['Cabin', 'Embarked', 'Deck'], axis=1, inplace=True)"
      ],
      "metadata": {
        "id": "utpr9KdTXL7J"
      },
      "execution_count": null,
      "outputs": []
    },
    {
      "cell_type": "markdown",
      "source": [
        "## Over-sampling Using SMOTE \n",
        "Resource: https://towardsdatascience.com/building-a-logistic-regression-in-python-step-by-step-becd4d56c9c8 "
      ],
      "metadata": {
        "id": "p-3RFbxFNNc6"
      }
    },
    {
      "cell_type": "code",
      "source": [
        "train1.columns.values\n",
        "x_train = train1.loc[:, train1.columns != 'Survived']\n",
        "y_train = train1.loc[:, train1.columns == 'Survived']"
      ],
      "metadata": {
        "colab": {
          "base_uri": "https://localhost:8080/"
        },
        "id": "WzmQWzTNNYPx",
        "outputId": "cec270f9-6c17-429c-a44f-41d990ba3817"
      },
      "execution_count": null,
      "outputs": [
        {
          "output_type": "execute_result",
          "data": {
            "text/plain": [
              "array(['PassengerId', 'Survived', 'Pclass', 'Sex', 'Age', 'SibSp',\n",
              "       'Parch', 'Fare'], dtype=object)"
            ]
          },
          "metadata": {},
          "execution_count": 38
        }
      ]
    },
    {
      "cell_type": "markdown",
      "source": [
        "## Recursive Feature Elimination"
      ],
      "metadata": {
        "id": "J6Ah8N_8QoP4"
      }
    },
    {
      "cell_type": "code",
      "source": [
        "vars = train1.columns.values.tolist()\n",
        "y = ['Survived']\n",
        "x = [i for i in vars if i not in y]\n",
        "\n",
        "\n",
        "from sklearn.feature_selection import RFE\n",
        "from sklearn.linear_model import LogisticRegression\n",
        "\n",
        "logReg = LogisticRegression()\n",
        "\n",
        "rfe = RFE(estimator = logReg, n_features_to_select=4)\n",
        "rfe = rfe.fit(x_train, y_train.values.ravel())\n",
        "\n",
        "print(x_train.columns)\n",
        "print(rfe.support_)\n",
        "print(rfe.ranking_)"
      ],
      "metadata": {
        "colab": {
          "base_uri": "https://localhost:8080/"
        },
        "id": "q45x2_MYQbFT",
        "outputId": "acd79e67-1fd9-48f7-a538-0aeff96eb959"
      },
      "execution_count": null,
      "outputs": [
        {
          "output_type": "stream",
          "name": "stdout",
          "text": [
            "Index(['PassengerId', 'Pclass', 'Sex', 'Age', 'SibSp', 'Parch', 'Fare'], dtype='object')\n",
            "[False  True  True False  True  True False]\n",
            "[4 1 1 2 1 1 3]\n"
          ]
        },
        {
          "output_type": "stream",
          "name": "stderr",
          "text": [
            "/usr/local/lib/python3.7/dist-packages/sklearn/linear_model/_logistic.py:818: ConvergenceWarning: lbfgs failed to converge (status=1):\n",
            "STOP: TOTAL NO. of ITERATIONS REACHED LIMIT.\n",
            "\n",
            "Increase the number of iterations (max_iter) or scale the data as shown in:\n",
            "    https://scikit-learn.org/stable/modules/preprocessing.html\n",
            "Please also refer to the documentation for alternative solver options:\n",
            "    https://scikit-learn.org/stable/modules/linear_model.html#logistic-regression\n",
            "  extra_warning_msg=_LOGISTIC_SOLVER_CONVERGENCE_MSG,\n"
          ]
        }
      ]
    },
    {
      "cell_type": "code",
      "source": [
        "cols =  ['Pclass', 'Sex', 'Age', 'SibSp', 'Parch', 'Fare']\n",
        "cols2 = ['Pclass', 'Sex', 'SibSp', 'Parch']\n",
        "cols3 = ['Sex', 'Age']\n",
        "cols4 = ['Sex', 'SibSp', 'Fare']"
      ],
      "metadata": {
        "id": "TZZbWh2YTG8M"
      },
      "execution_count": null,
      "outputs": []
    },
    {
      "cell_type": "markdown",
      "source": [
        "## Variable Model Tests "
      ],
      "metadata": {
        "id": "-zKKGkhUSDPW"
      }
    },
    {
      "cell_type": "code",
      "source": [
        "x = x_train[cols]\n",
        "y = y_train['Survived']\n",
        "\n",
        "import statsmodels.api as sm\n",
        "logit_model = sm.Logit(y.astype(float), x.astype(float))\n",
        "result = logit_model.fit()\n",
        "print(result.summary2())"
      ],
      "metadata": {
        "colab": {
          "base_uri": "https://localhost:8080/"
        },
        "id": "FBXWMd0bSCXM",
        "outputId": "14c21180-f3e8-41f9-8908-39ada27ca42e"
      },
      "execution_count": null,
      "outputs": [
        {
          "output_type": "stream",
          "name": "stderr",
          "text": [
            "/usr/local/lib/python3.7/dist-packages/statsmodels/tools/_testing.py:19: FutureWarning: pandas.util.testing is deprecated. Use the functions in the public API at pandas.testing instead.\n",
            "  import pandas.util.testing as tm\n"
          ]
        },
        {
          "output_type": "stream",
          "name": "stdout",
          "text": [
            "Optimization terminated successfully.\n",
            "         Current function value: 0.496289\n",
            "         Iterations 6\n",
            "                         Results: Logit\n",
            "=================================================================\n",
            "Model:              Logit            Pseudo R-squared: 0.255     \n",
            "Dependent Variable: Survived         AIC:              896.3863  \n",
            "Date:               2022-03-31 20:43 BIC:              925.1404  \n",
            "No. Observations:   891              Log-Likelihood:   -442.19   \n",
            "Df Model:           5                LL-Null:          -593.33   \n",
            "Df Residuals:       885              LLR p-value:      3.2574e-63\n",
            "Converged:          1.0000           Scale:            1.0000    \n",
            "No. Iterations:     6.0000                                       \n",
            "-------------------------------------------------------------------\n",
            "          Coef.    Std.Err.      z       P>|z|     [0.025    0.975]\n",
            "-------------------------------------------------------------------\n",
            "Pclass    0.0869     0.0687     1.2650   0.2059   -0.0477    0.2215\n",
            "Sex      -2.2556     0.1774   -12.7180   0.0000   -2.6032   -1.9080\n",
            "Age       0.0072     0.0055     1.3033   0.1925   -0.0036    0.0179\n",
            "SibSp    -0.2818     0.0941    -2.9949   0.0027   -0.4662   -0.0974\n",
            "Parch    -0.1080     0.1114    -0.9694   0.3324   -0.3263    0.1104\n",
            "Fare      0.0183     0.0030     6.0176   0.0000    0.0123    0.0242\n",
            "=================================================================\n",
            "\n"
          ]
        }
      ]
    },
    {
      "cell_type": "code",
      "source": [
        "x = x_train[cols2]\n",
        "logit_model = sm.Logit(y.astype(float), x.astype(float))\n",
        "result = logit_model.fit()\n",
        "print(result.summary2())"
      ],
      "metadata": {
        "colab": {
          "base_uri": "https://localhost:8080/"
        },
        "id": "-1oMEYDPYyID",
        "outputId": "d98f93a1-4e47-4422-85bc-8085c1f7a4db"
      },
      "execution_count": null,
      "outputs": [
        {
          "output_type": "stream",
          "name": "stdout",
          "text": [
            "Optimization terminated successfully.\n",
            "         Current function value: 0.550361\n",
            "         Iterations 5\n",
            "                         Results: Logit\n",
            "=================================================================\n",
            "Model:              Logit            Pseudo R-squared: 0.174     \n",
            "Dependent Variable: Survived         AIC:              988.7434  \n",
            "Date:               2022-03-31 20:43 BIC:              1007.9128 \n",
            "No. Observations:   891              Log-Likelihood:   -490.37   \n",
            "Df Model:           3                LL-Null:          -593.33   \n",
            "Df Residuals:       887              LLR p-value:      2.2269e-44\n",
            "Converged:          1.0000           Scale:            1.0000    \n",
            "No. Iterations:     5.0000                                       \n",
            "-------------------------------------------------------------------\n",
            "          Coef.    Std.Err.      z       P>|z|     [0.025    0.975]\n",
            "-------------------------------------------------------------------\n",
            "Pclass    0.1309     0.0530     2.4673   0.0136    0.0269    0.2348\n",
            "Sex      -1.7698     0.1589   -11.1401   0.0000   -2.0812   -1.4584\n",
            "SibSp    -0.1218     0.0796    -1.5303   0.1259   -0.2778    0.0342\n",
            "Parch     0.1917     0.1039     1.8461   0.0649   -0.0118    0.3953\n",
            "=================================================================\n",
            "\n"
          ]
        }
      ]
    },
    {
      "cell_type": "code",
      "source": [
        "x = x_train[cols3]\n",
        "logit_model = sm.Logit(y.astype(float), x.astype(float))\n",
        "result = logit_model.fit()\n",
        "print(result.summary2())"
      ],
      "metadata": {
        "colab": {
          "base_uri": "https://localhost:8080/"
        },
        "id": "VusstmwYY5aL",
        "outputId": "220e4c4d-327c-42c3-c244-9a7716915a11"
      },
      "execution_count": null,
      "outputs": [
        {
          "output_type": "stream",
          "name": "stdout",
          "text": [
            "Optimization terminated successfully.\n",
            "         Current function value: 0.531232\n",
            "         Iterations 5\n",
            "                         Results: Logit\n",
            "=================================================================\n",
            "Model:              Logit            Pseudo R-squared: 0.202     \n",
            "Dependent Variable: Survived         AIC:              950.6561  \n",
            "Date:               2022-03-31 20:43 BIC:              960.2407  \n",
            "No. Observations:   891              Log-Likelihood:   -473.33   \n",
            "Df Model:           1                LL-Null:          -593.33   \n",
            "Df Residuals:       889              LLR p-value:      3.9347e-54\n",
            "Converged:          1.0000           Scale:            1.0000    \n",
            "No. Iterations:     5.0000                                       \n",
            "-------------------------------------------------------------------\n",
            "          Coef.    Std.Err.      z       P>|z|     [0.025    0.975]\n",
            "-------------------------------------------------------------------\n",
            "Sex      -2.2129     0.1596   -13.8665   0.0000   -2.5257   -1.9001\n",
            "Age       0.0240     0.0036     6.6435   0.0000    0.0169    0.0311\n",
            "=================================================================\n",
            "\n"
          ]
        }
      ]
    },
    {
      "cell_type": "code",
      "source": [
        "x = x_train[cols4]\n",
        "logit_model = sm.Logit(y.astype(float), x.astype(float))\n",
        "result = logit_model.fit()\n",
        "print(result.summary2())"
      ],
      "metadata": {
        "colab": {
          "base_uri": "https://localhost:8080/"
        },
        "id": "isY7DGLhVtbj",
        "outputId": "ae0df7c8-a118-47d4-a0b8-833a7cd611c2"
      },
      "execution_count": null,
      "outputs": [
        {
          "output_type": "stream",
          "name": "stdout",
          "text": [
            "Optimization terminated successfully.\n",
            "         Current function value: 0.501111\n",
            "         Iterations 6\n",
            "                         Results: Logit\n",
            "=================================================================\n",
            "Model:              Logit            Pseudo R-squared: 0.247     \n",
            "Dependent Variable: Survived         AIC:              898.9805  \n",
            "Date:               2022-03-31 20:43 BIC:              913.3575  \n",
            "No. Observations:   891              Log-Likelihood:   -446.49   \n",
            "Df Model:           2                LL-Null:          -593.33   \n",
            "Df Residuals:       888              LLR p-value:      1.6957e-64\n",
            "Converged:          1.0000           Scale:            1.0000    \n",
            "No. Iterations:     6.0000                                       \n",
            "-------------------------------------------------------------------\n",
            "          Coef.    Std.Err.      z       P>|z|     [0.025    0.975]\n",
            "-------------------------------------------------------------------\n",
            "Sex      -1.9088     0.1288   -14.8229   0.0000   -2.1612   -1.6564\n",
            "SibSp    -0.2517     0.0806    -3.1220   0.0018   -0.4097   -0.0937\n",
            "Fare      0.0199     0.0026     7.6647   0.0000    0.0148    0.0250\n",
            "=================================================================\n",
            "\n"
          ]
        }
      ]
    },
    {
      "cell_type": "markdown",
      "source": [
        "## Logistic Regression Modeling"
      ],
      "metadata": {
        "id": "RnaW6M8NU75Q"
      }
    },
    {
      "cell_type": "markdown",
      "source": [
        "#### Try it out on a train subset first:"
      ],
      "metadata": {
        "id": "t-Mwt7H_IQoH"
      }
    },
    {
      "cell_type": "code",
      "source": [
        "X = train1.loc[:, train1.columns != 'Survived']\n",
        "Y = train1.loc[:, train1.columns == 'Survived']\n",
        "\n",
        "X_trainLR, X_testLR, Y_trainLR, Y_testLR = train_test_split(X, Y, test_size=0.3, random_state=0)"
      ],
      "metadata": {
        "id": "2uECVKO119IV"
      },
      "execution_count": null,
      "outputs": []
    },
    {
      "cell_type": "code",
      "source": [
        "logReg.fit(X_trainLR[cols2], Y_trainLR)"
      ],
      "metadata": {
        "colab": {
          "base_uri": "https://localhost:8080/"
        },
        "id": "L9-NucGV2_sR",
        "outputId": "befa0cdd-e0ea-427b-d284-d292527401b4"
      },
      "execution_count": null,
      "outputs": [
        {
          "output_type": "stream",
          "name": "stderr",
          "text": [
            "/usr/local/lib/python3.7/dist-packages/sklearn/utils/validation.py:993: DataConversionWarning: A column-vector y was passed when a 1d array was expected. Please change the shape of y to (n_samples, ), for example using ravel().\n",
            "  y = column_or_1d(y, warn=True)\n"
          ]
        },
        {
          "output_type": "execute_result",
          "data": {
            "text/plain": [
              "LogisticRegression()"
            ]
          },
          "metadata": {},
          "execution_count": 46
        }
      ]
    },
    {
      "cell_type": "code",
      "source": [
        "y_pred = logReg.predict(X_testLR[cols2].astype(float))\n",
        "print('Accuracy of logistic regerssion classifier on test set: {:.2f}'.format(logReg.score(X_testLR[cols2], Y_testLR)))"
      ],
      "metadata": {
        "colab": {
          "base_uri": "https://localhost:8080/"
        },
        "id": "L9g-DN3HU_Q7",
        "outputId": "6789a053-f95d-4653-fad9-c936e3168148"
      },
      "execution_count": null,
      "outputs": [
        {
          "output_type": "stream",
          "name": "stdout",
          "text": [
            "Accuracy of logistic regerssion classifier on test set: 0.79\n"
          ]
        }
      ]
    },
    {
      "cell_type": "markdown",
      "source": [
        "## Confusion Matrix"
      ],
      "metadata": {
        "id": "oVd38YnO4HO4"
      }
    },
    {
      "cell_type": "code",
      "source": [
        "from sklearn.metrics import confusion_matrix\n",
        "confusion_matrix = confusion_matrix(Y_testLR, y_pred)\n",
        "print(confusion_matrix)"
      ],
      "metadata": {
        "colab": {
          "base_uri": "https://localhost:8080/"
        },
        "id": "ehrgGubd4Gu6",
        "outputId": "da2fff2f-6d66-4cd6-8b73-90186b9d8571"
      },
      "execution_count": null,
      "outputs": [
        {
          "output_type": "stream",
          "name": "stdout",
          "text": [
            "[[144  24]\n",
            " [ 31  69]]\n"
          ]
        }
      ]
    },
    {
      "cell_type": "markdown",
      "source": [
        "## Compute Precision, Recall, F-Measure, and Support"
      ],
      "metadata": {
        "id": "jbxmu01g414_"
      }
    },
    {
      "cell_type": "code",
      "source": [
        "from sklearn.metrics import classification_report\n",
        "print(classification_report(Y_testLR, y_pred))"
      ],
      "metadata": {
        "colab": {
          "base_uri": "https://localhost:8080/"
        },
        "id": "Oy6BvVu946Su",
        "outputId": "f328ddd9-e0a0-4a1b-92fd-a3d599da2351"
      },
      "execution_count": null,
      "outputs": [
        {
          "output_type": "stream",
          "name": "stdout",
          "text": [
            "              precision    recall  f1-score   support\n",
            "\n",
            "           0       0.82      0.86      0.84       168\n",
            "           1       0.74      0.69      0.72       100\n",
            "\n",
            "    accuracy                           0.79       268\n",
            "   macro avg       0.78      0.77      0.78       268\n",
            "weighted avg       0.79      0.79      0.79       268\n",
            "\n"
          ]
        }
      ]
    },
    {
      "cell_type": "markdown",
      "source": [
        "## ROC Curve"
      ],
      "metadata": {
        "id": "wjzzsGRX5FtD"
      }
    },
    {
      "cell_type": "code",
      "source": [
        "from sklearn.metrics import roc_auc_score\n",
        "from sklearn.metrics import roc_curve\n",
        "logit_roc_auc = roc_auc_score(Y_testLR, logReg.predict(X_testLR[cols2].astype(float)))\n",
        "fpr, tpr, thresholds = roc_curve(Y_testLR, logReg.predict_proba(X_testLR[cols2])[:,1])\n",
        "plt.figure()\n",
        "plt.plot(fpr, tpr, label='Logistic Regression (area = %0.2f' % logit_roc_auc)\n",
        "plt.plot([0,1], [0,1], 'r--')\n",
        "plt.xlim([0.0, 1.0])\n",
        "plt.ylim([0.0, 1.05])\n",
        "plt.xlabel('False Positive Rate')\n",
        "plt.ylabel('True Positive Rate')\n",
        "plt.title('Receiver Operating Characteristic')\n",
        "plt.legend(loc='lower right')\n",
        "plt.savefig('Log_ROC')\n",
        "plt.show();"
      ],
      "metadata": {
        "colab": {
          "base_uri": "https://localhost:8080/",
          "height": 518
        },
        "id": "2hj_Vb9z5Izo",
        "outputId": "1e61ae6e-4dfe-4dec-e625-fe555f9a8aae"
      },
      "execution_count": null,
      "outputs": [
        {
          "output_type": "display_data",
          "data": {
            "text/plain": [
              "<Figure size 720x576 with 1 Axes>"
            ],
            "image/png": "[encoded data removed]"
          },
          "metadata": {}
        }
      ]
    },
    {
      "cell_type": "markdown",
      "source": [
        "#### Make predictions with test dataset:"
      ],
      "metadata": {
        "id": "i228PsumIXVs"
      }
    },
    {
      "cell_type": "code",
      "source": [
        "# train.isna().sum()\n",
        "# test.isna().sum()"
      ],
      "metadata": {
        "id": "mWPIlQZDOnYo"
      },
      "execution_count": null,
      "outputs": []
    },
    {
      "cell_type": "code",
      "source": [
        "# test[cols].info()\n",
        "# test.isna().sum()"
      ],
      "metadata": {
        "id": "ZLU7wYvUNWiD"
      },
      "execution_count": null,
      "outputs": []
    },
    {
      "cell_type": "code",
      "source": [
        "pd.set_option('max_rows', 10)\n",
        "\n",
        "logReg.fit(train[cols], train['Survived'])\n",
        "y_pred = logReg.predict(test[cols].astype(float))\n",
        "y_pred = y_pred.astype(int)\n",
        "LROutput = pd.DataFrame().assign(PassengerId = test['PassengerId'], Survived=pd.Series(y_pred))\n",
        "LROutput.to_csv('Logistic Regression Results.csv')"
      ],
      "metadata": {
        "colab": {
          "base_uri": "https://localhost:8080/"
        },
        "id": "SHC6k5o5LnCL",
        "outputId": "d9938543-1664-430c-cc8b-71c998ceb6c7"
      },
      "execution_count": null,
      "outputs": [
        {
          "output_type": "execute_result",
          "data": {
            "text/plain": [
              "LogisticRegression()"
            ]
          },
          "metadata": {},
          "execution_count": 53
        }
      ]
    },
    {
      "cell_type": "markdown",
      "source": [
        "## Random Forest"
      ],
      "metadata": {
        "id": "5STiiIJHdSSy"
      }
    },
    {
      "cell_type": "markdown",
      "source": [
        "Try it on a subset of the training data:"
      ],
      "metadata": {
        "id": "JAOOaWZ8k53D"
      }
    },
    {
      "cell_type": "code",
      "source": [
        "X = train.loc[:, train.columns != 'Survived']\n",
        "Y = train.loc[:, train.columns == 'Survived']\n",
        "\n",
        "X_trainRF, X_testRF, Y_trainRF, Y_testRF = train_test_split(X, Y, test_size=0.3, random_state=0)"
      ],
      "metadata": {
        "id": "viEqNj_wYaV7"
      },
      "execution_count": null,
      "outputs": []
    },
    {
      "cell_type": "code",
      "source": [
        "from sklearn.ensemble import RandomForestClassifier\n",
        "from sklearn.datasets import make_classification\n",
        "from sklearn.metrics import accuracy_score\n",
        "from numpy import mean\n",
        "from numpy import std\n",
        "from sklearn.datasets import make_classification\n",
        "from sklearn.model_selection import cross_val_score\n",
        "from sklearn.model_selection import RepeatedStratifiedKFold"
      ],
      "metadata": {
        "id": "jn2Pg-MVkovI"
      },
      "execution_count": null,
      "outputs": []
    },
    {
      "cell_type": "code",
      "source": [
        "X, y = make_classification(n_samples=1000, n_features=7, n_informative=6, n_redundant=1, random_state=3)\n",
        "\n",
        "model = RandomForestClassifier()\n",
        "\n",
        "# evaluate the model\n",
        "cv = RepeatedStratifiedKFold(n_splits=10, n_repeats=3, random_state=1)\n",
        "n_scores = cross_val_score(model, X, y, scoring='accuracy', cv=cv, n_jobs=-1, error_score='raise')\n",
        "# report performance\n",
        "print('Accuracy: %.3f (%.3f)' % (mean(n_scores)*100, std(n_scores)))"
      ],
      "metadata": {
        "colab": {
          "base_uri": "https://localhost:8080/"
        },
        "id": "rV09fueUYL66",
        "outputId": "330770a1-a122-4555-906f-cb6f5d04c8ae"
      },
      "execution_count": null,
      "outputs": [
        {
          "output_type": "stream",
          "name": "stdout",
          "text": [
            "Accuracy: 92.600 (0.025)\n"
          ]
        }
      ]
    },
    {
      "cell_type": "markdown",
      "source": [
        "####Tuning Hyperparameters:"
      ],
      "metadata": {
        "id": "o9hA5SGvonyt"
      }
    },
    {
      "cell_type": "code",
      "source": [
        "from sklearn.model_selection import RandomizedSearchCV\n",
        "\n",
        "n_estimators = [int(x) for x in np.linspace(start = 200, stop = 1100, num = 10)]\n",
        "max_features = ['auto', 4, 'sqrt', 'log2']\n",
        "max_depth = [int(x) for x in np.linspace(10, 110, num = 11)]\n",
        "max_depth.append(None)\n",
        "min_samples_split = [2, 5, 10]\n",
        "min_samples_leaf = [1, 10, 50, 60]\n",
        "bootstrap = [True, False]\n",
        "\n",
        "random_grid = {'n_estimators': n_estimators,\n",
        "               'max_features': max_features,\n",
        "               'max_depth': max_depth,\n",
        "               'min_samples_split': min_samples_split,\n",
        "               'min_samples_leaf': min_samples_leaf,\n",
        "               'bootstrap': bootstrap}"
      ],
      "metadata": {
        "id": "BzLe9uyaoY0B"
      },
      "execution_count": null,
      "outputs": []
    },
    {
      "cell_type": "code",
      "source": [
        "# Test for optimal hyperparameters\n",
        "rf = RandomForestClassifier(oob_score=True)\n",
        "\n",
        "# Randomized test of parameters, using 7 fold cross validation, across 100 different combinations, use all available cores\n",
        "rf_random = RandomizedSearchCV(estimator = rf, param_distributions = random_grid, n_iter = 100, cv = 7, verbose=2, random_state=42, n_jobs = -1)\n",
        "\n",
        "rf_random.fit(X_trainRF, Y_trainRF)"
      ],
      "metadata": {
        "colab": {
          "base_uri": "https://localhost:8080/"
        },
        "id": "IZl6yzFxom-M",
        "outputId": "7faf138b-9b2a-42be-f838-a99ce3e47d32"
      },
      "execution_count": null,
      "outputs": [
        {
          "output_type": "stream",
          "name": "stdout",
          "text": [
            "Fitting 7 folds for each of 100 candidates, totalling 700 fits\n"
          ]
        },
        {
          "output_type": "stream",
          "name": "stderr",
          "text": [
            "/usr/local/lib/python3.7/dist-packages/sklearn/model_selection/_validation.py:372: FitFailedWarning: \n",
            "385 fits failed out of a total of 700.\n",
            "The score on these train-test partitions for these parameters will be set to nan.\n",
            "If these failures are not expected, you can try to debug them by setting error_score='raise'.\n",
            "\n",
            "Below are more details about the failures:\n",
            "--------------------------------------------------------------------------------\n",
            "385 fits failed with the following error:\n",
            "Traceback (most recent call last):\n",
            "  File \"/usr/local/lib/python3.7/dist-packages/sklearn/model_selection/_validation.py\", line 680, in _fit_and_score\n",
            "    estimator.fit(X_train, y_train, **fit_params)\n",
            "  File \"/usr/local/lib/python3.7/dist-packages/sklearn/ensemble/_forest.py\", line 411, in fit\n",
            "    raise ValueError(\"Out of bag estimation only available if bootstrap=True\")\n",
            "ValueError: Out of bag estimation only available if bootstrap=True\n",
            "\n",
            "  warnings.warn(some_fits_failed_message, FitFailedWarning)\n",
            "/usr/local/lib/python3.7/dist-packages/sklearn/model_selection/_search.py:972: UserWarning: One or more of the test scores are non-finite: [       nan 0.82182986 0.76565008 0.80256822        nan 0.76725522\n",
            "        nan 0.76243981 0.76725522 0.80417335        nan        nan\n",
            "        nan 0.81540931 0.80417335        nan        nan 0.80417335\n",
            " 0.80898876 0.81219904        nan 0.78651685 0.78651685 0.82343499\n",
            "        nan        nan        nan        nan 0.79935795        nan\n",
            " 0.8105939  0.76725522        nan        nan 0.76565008 0.76243981\n",
            " 0.81380417 0.76404494 0.76404494        nan 0.76725522 0.76083467\n",
            "        nan 0.77367576 0.80898876        nan        nan 0.76565008\n",
            "        nan        nan        nan        nan        nan        nan\n",
            "        nan        nan 0.78651685        nan        nan        nan\n",
            " 0.76886035        nan        nan        nan 0.80417335        nan\n",
            " 0.8105939         nan 0.82182986 0.76243981        nan 0.77367576\n",
            " 0.75922953        nan 0.80898876        nan        nan        nan\n",
            " 0.80417335 0.79775281 0.76725522        nan 0.80417335        nan\n",
            "        nan 0.8105939         nan        nan        nan        nan\n",
            "        nan        nan 0.80256822        nan 0.76404494 0.80577849\n",
            "        nan        nan        nan        nan]\n",
            "  category=UserWarning,\n",
            "/usr/local/lib/python3.7/dist-packages/sklearn/model_selection/_search.py:926: DataConversionWarning: A column-vector y was passed when a 1d array was expected. Please change the shape of y to (n_samples,), for example using ravel().\n",
            "  self.best_estimator_.fit(X, y, **fit_params)\n"
          ]
        },
        {
          "output_type": "execute_result",
          "data": {
            "text/plain": [
              "RandomizedSearchCV(cv=7, estimator=RandomForestClassifier(oob_score=True),\n",
              "                   n_iter=100, n_jobs=-1,\n",
              "                   param_distributions={'bootstrap': [True, False],\n",
              "                                        'max_depth': [10, 20, 30, 40, 50, 60,\n",
              "                                                      70, 80, 90, 100, 110,\n",
              "                                                      None],\n",
              "                                        'max_features': ['auto', 4, 'sqrt',\n",
              "                                                         'log2'],\n",
              "                                        'min_samples_leaf': [1, 10, 50, 60],\n",
              "                                        'min_samples_split': [2, 5, 10],\n",
              "                                        'n_estimators': [200, 300, 400, 500,\n",
              "                                                         600, 700, 800, 900,\n",
              "                                                         1000, 1100]},\n",
              "                   random_state=42, verbose=2)"
            ]
          },
          "metadata": {},
          "execution_count": 58
        }
      ]
    },
    {
      "cell_type": "code",
      "source": [
        "rf_random.best_params_"
      ],
      "metadata": {
        "colab": {
          "base_uri": "https://localhost:8080/"
        },
        "id": "Kb035rGnqesJ",
        "outputId": "9da8876f-ae4b-4b6b-ed85-b56820f1aee4"
      },
      "execution_count": null,
      "outputs": [
        {
          "output_type": "execute_result",
          "data": {
            "text/plain": [
              "{'bootstrap': True,\n",
              " 'max_depth': 80,\n",
              " 'max_features': 'auto',\n",
              " 'min_samples_leaf': 1,\n",
              " 'min_samples_split': 10,\n",
              " 'n_estimators': 700}"
            ]
          },
          "metadata": {},
          "execution_count": 59
        }
      ]
    },
    {
      "cell_type": "code",
      "source": [
        "from sklearn import metrics\n",
        "\n",
        "def evaluate(model, X_test, Y_test):\n",
        "    predictions = model.predict(X_test)\n",
        "    accuracy = metrics.accuracy_score(Y_test, predictions)\n",
        "    print('\\n\\nAccuracy:', accuracy)\n",
        "    return accuracy"
      ],
      "metadata": {
        "id": "K-MClqGJsKt9"
      },
      "execution_count": null,
      "outputs": []
    },
    {
      "cell_type": "code",
      "source": [
        "base_model = RandomForestClassifier(oob_score=True)\n",
        "base_model.fit(X_trainRF, Y_trainRF.values.ravel())\n",
        "base_accuracy = evaluate(base_model, X_testRF, Y_testRF)"
      ],
      "metadata": {
        "colab": {
          "base_uri": "https://localhost:8080/"
        },
        "id": "88AKehtPmDGt",
        "outputId": "4b5e8eca-6bcf-44a7-b8d7-adc7fc3a820c"
      },
      "execution_count": null,
      "outputs": [
        {
          "output_type": "execute_result",
          "data": {
            "text/plain": [
              "RandomForestClassifier(oob_score=True)"
            ]
          },
          "metadata": {},
          "execution_count": 61
        },
        {
          "output_type": "stream",
          "name": "stdout",
          "text": [
            "\n",
            "\n",
            "Accuracy: 0.8208955223880597\n"
          ]
        }
      ]
    },
    {
      "cell_type": "code",
      "source": [
        "best_random = rf_random.best_estimator_\n",
        "random_accuracy = evaluate(best_random, X_testRF, Y_testRF)\n",
        "print('\\nAccuracy: ', round(random_accuracy, 4)*100, '%')"
      ],
      "metadata": {
        "colab": {
          "base_uri": "https://localhost:8080/"
        },
        "id": "K5InB1V2mEsR",
        "outputId": "4e77ee8b-f2f4-407f-f144-12f9f312116d"
      },
      "execution_count": null,
      "outputs": [
        {
          "output_type": "stream",
          "name": "stdout",
          "text": [
            "\n",
            "\n",
            "Accuracy: 0.832089552238806\n",
            "\n",
            "Accuracy:  83.21 %\n"
          ]
        }
      ]
    },
    {
      "cell_type": "markdown",
      "source": [
        "### Use Tuned Model on Full Train & Test Sets"
      ],
      "metadata": {
        "id": "oC5vrNfl99oI"
      }
    },
    {
      "cell_type": "code",
      "source": [
        "train_x = train[cols2]\n",
        "train_y = train.loc[:, train.columns == 'Survived']\n",
        "test_x = test[cols2]\n",
        "test_y = test.loc[:, test.columns == 'Survived']"
      ],
      "metadata": {
        "id": "44zEvEkEkxSC"
      },
      "execution_count": null,
      "outputs": []
    },
    {
      "cell_type": "code",
      "source": [
        "rf_model = rf_random.best_estimator_\n",
        "rf_model.fit(train_x, train_y.values.ravel())\n",
        "f_predictions = rf_model.predict(test_x) \n",
        "RFOutput = pd.DataFrame().assign(PassengerId = test['PassengerId'], Survived=pd.Series(f_predictions))\n",
        "RFOutput.to_csv('Random Forest Results.csv')"
      ],
      "metadata": {
        "colab": {
          "base_uri": "https://localhost:8080/"
        },
        "id": "mW5DouWa-ul1",
        "outputId": "c6973ae0-25dc-4373-d707-23bb5263d0ad"
      },
      "execution_count": null,
      "outputs": [
        {
          "output_type": "execute_result",
          "data": {
            "text/plain": [
              "RandomForestClassifier(max_depth=80, min_samples_split=10, n_estimators=700,\n",
              "                       oob_score=True)"
            ]
          },
          "metadata": {},
          "execution_count": 65
        }
      ]
    }
  ]
}